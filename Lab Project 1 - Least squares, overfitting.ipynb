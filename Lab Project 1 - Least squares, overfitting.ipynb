{
 "cells": [
  {
   "cell_type": "code",
   "execution_count": 3,
   "metadata": {},
   "outputs": [],
   "source": [
    "using LinearAlgebra"
   ]
  },
  {
   "cell_type": "code",
   "execution_count": 4,
   "metadata": {},
   "outputs": [],
   "source": [
    "using Plots"
   ]
  },
  {
   "cell_type": "markdown",
   "metadata": {},
   "source": [
    "Dummy dataset [t,y]"
   ]
  },
  {
   "cell_type": "code",
   "execution_count": 7,
   "metadata": {},
   "outputs": [],
   "source": [
    "t=[1 2 3 4]';\n",
    "b=[2 3 3 5]';"
   ]
  },
  {
   "cell_type": "code",
   "execution_count": 8,
   "metadata": {},
   "outputs": [
    {
     "data": {
      "image/svg+xml": [
       "<?xml version=\"1.0\" encoding=\"utf-8\"?>\n",
       "<svg xmlns=\"http://www.w3.org/2000/svg\" xmlns:xlink=\"http://www.w3.org/1999/xlink\" width=\"600\" height=\"400\" viewBox=\"0 0 2400 1600\">\n",
       "<defs>\n",
       "  <clipPath id=\"clip610\">\n",
       "    <rect x=\"0\" y=\"0\" width=\"2400\" height=\"1600\"/>\n",
       "  </clipPath>\n",
       "</defs>\n",
       "<path clip-path=\"url(#clip610)\" d=\"\n",
       "M0 1600 L2400 1600 L2400 0 L0 0  Z\n",
       "  \" fill=\"#ffffff\" fill-rule=\"evenodd\" fill-opacity=\"1\"/>\n",
       "<defs>\n",
       "  <clipPath id=\"clip611\">\n",
       "    <rect x=\"480\" y=\"0\" width=\"1681\" height=\"1600\"/>\n",
       "  </clipPath>\n",
       "</defs>\n",
       "<path clip-path=\"url(#clip610)\" d=\"\n",
       "M112.177 1486.45 L2352.76 1486.45 L2352.76 47.2441 L112.177 47.2441  Z\n",
       "  \" fill=\"#ffffff\" fill-rule=\"evenodd\" fill-opacity=\"1\"/>\n",
       "<defs>\n",
       "  <clipPath id=\"clip612\">\n",
       "    <rect x=\"112\" y=\"47\" width=\"2242\" height=\"1440\"/>\n",
       "  </clipPath>\n",
       "</defs>\n",
       "<polyline clip-path=\"url(#clip612)\" style=\"stroke:#000000; stroke-width:2; stroke-opacity:0.1; fill:none\" points=\"\n",
       "  175.59,1486.45 175.59,47.2441 \n",
       "  \"/>\n",
       "<polyline clip-path=\"url(#clip612)\" style=\"stroke:#000000; stroke-width:2; stroke-opacity:0.1; fill:none\" points=\"\n",
       "  880.174,1486.45 880.174,47.2441 \n",
       "  \"/>\n",
       "<polyline clip-path=\"url(#clip612)\" style=\"stroke:#000000; stroke-width:2; stroke-opacity:0.1; fill:none\" points=\"\n",
       "  1584.76,1486.45 1584.76,47.2441 \n",
       "  \"/>\n",
       "<polyline clip-path=\"url(#clip612)\" style=\"stroke:#000000; stroke-width:2; stroke-opacity:0.1; fill:none\" points=\"\n",
       "  2289.34,1486.45 2289.34,47.2441 \n",
       "  \"/>\n",
       "<polyline clip-path=\"url(#clip612)\" style=\"stroke:#000000; stroke-width:2; stroke-opacity:0.1; fill:none\" points=\"\n",
       "  112.177,1445.72 2352.76,1445.72 \n",
       "  \"/>\n",
       "<polyline clip-path=\"url(#clip612)\" style=\"stroke:#000000; stroke-width:2; stroke-opacity:0.1; fill:none\" points=\"\n",
       "  112.177,993.136 2352.76,993.136 \n",
       "  \"/>\n",
       "<polyline clip-path=\"url(#clip612)\" style=\"stroke:#000000; stroke-width:2; stroke-opacity:0.1; fill:none\" points=\"\n",
       "  112.177,540.556 2352.76,540.556 \n",
       "  \"/>\n",
       "<polyline clip-path=\"url(#clip612)\" style=\"stroke:#000000; stroke-width:2; stroke-opacity:0.1; fill:none\" points=\"\n",
       "  112.177,87.9763 2352.76,87.9763 \n",
       "  \"/>\n",
       "<polyline clip-path=\"url(#clip610)\" style=\"stroke:#000000; stroke-width:4; stroke-opacity:1; fill:none\" points=\"\n",
       "  112.177,1486.45 2352.76,1486.45 \n",
       "  \"/>\n",
       "<polyline clip-path=\"url(#clip610)\" style=\"stroke:#000000; stroke-width:4; stroke-opacity:1; fill:none\" points=\"\n",
       "  112.177,1486.45 112.177,47.2441 \n",
       "  \"/>\n",
       "<polyline clip-path=\"url(#clip610)\" style=\"stroke:#000000; stroke-width:4; stroke-opacity:1; fill:none\" points=\"\n",
       "  175.59,1486.45 175.59,1469.18 \n",
       "  \"/>\n",
       "<polyline clip-path=\"url(#clip610)\" style=\"stroke:#000000; stroke-width:4; stroke-opacity:1; fill:none\" points=\"\n",
       "  880.174,1486.45 880.174,1469.18 \n",
       "  \"/>\n",
       "<polyline clip-path=\"url(#clip610)\" style=\"stroke:#000000; stroke-width:4; stroke-opacity:1; fill:none\" points=\"\n",
       "  1584.76,1486.45 1584.76,1469.18 \n",
       "  \"/>\n",
       "<polyline clip-path=\"url(#clip610)\" style=\"stroke:#000000; stroke-width:4; stroke-opacity:1; fill:none\" points=\"\n",
       "  2289.34,1486.45 2289.34,1469.18 \n",
       "  \"/>\n",
       "<polyline clip-path=\"url(#clip610)\" style=\"stroke:#000000; stroke-width:4; stroke-opacity:1; fill:none\" points=\"\n",
       "  112.177,1445.72 139.064,1445.72 \n",
       "  \"/>\n",
       "<polyline clip-path=\"url(#clip610)\" style=\"stroke:#000000; stroke-width:4; stroke-opacity:1; fill:none\" points=\"\n",
       "  112.177,993.136 139.064,993.136 \n",
       "  \"/>\n",
       "<polyline clip-path=\"url(#clip610)\" style=\"stroke:#000000; stroke-width:4; stroke-opacity:1; fill:none\" points=\"\n",
       "  112.177,540.556 139.064,540.556 \n",
       "  \"/>\n",
       "<polyline clip-path=\"url(#clip610)\" style=\"stroke:#000000; stroke-width:4; stroke-opacity:1; fill:none\" points=\"\n",
       "  112.177,87.9763 139.064,87.9763 \n",
       "  \"/>\n",
       "<path clip-path=\"url(#clip610)\" d=\"M 0 0 M165.972 1535.98 L173.611 1535.98 L173.611 1509.62 L165.3 1511.29 L165.3 1507.03 L173.564 1505.36 L178.24 1505.36 L178.24 1535.98 L185.879 1535.98 L185.879 1539.92 L165.972 1539.92 L165.972 1535.98 Z\" fill=\"#000000\" fill-rule=\"evenodd\" fill-opacity=\"1\" /><path clip-path=\"url(#clip610)\" d=\"M 0 0 M874.827 1535.98 L891.146 1535.98 L891.146 1539.92 L869.202 1539.92 L869.202 1535.98 Q871.864 1533.23 876.447 1528.6 Q881.054 1523.95 882.234 1522.61 Q884.48 1520.08 885.359 1518.35 Q886.262 1516.59 886.262 1514.9 Q886.262 1512.14 884.318 1510.41 Q882.396 1508.67 879.295 1508.67 Q877.096 1508.67 874.642 1509.43 Q872.211 1510.2 869.434 1511.75 L869.434 1507.03 Q872.258 1505.89 874.711 1505.31 Q877.165 1504.73 879.202 1504.73 Q884.572 1504.73 887.767 1507.42 Q890.961 1510.11 890.961 1514.6 Q890.961 1516.73 890.151 1518.65 Q889.364 1520.54 887.258 1523.14 Q886.679 1523.81 883.577 1527.03 Q880.475 1530.22 874.827 1535.98 Z\" fill=\"#000000\" fill-rule=\"evenodd\" fill-opacity=\"1\" /><path clip-path=\"url(#clip610)\" d=\"M 0 0 M1589.01 1521.29 Q1592.36 1522 1594.24 1524.27 Q1596.14 1526.54 1596.14 1529.87 Q1596.14 1534.99 1592.62 1537.79 Q1589.1 1540.59 1582.62 1540.59 Q1580.44 1540.59 1578.13 1540.15 Q1575.84 1539.73 1573.38 1538.88 L1573.38 1534.36 Q1575.33 1535.5 1577.64 1536.08 Q1579.96 1536.66 1582.48 1536.66 Q1586.88 1536.66 1589.17 1534.92 Q1591.48 1533.18 1591.48 1529.87 Q1591.48 1526.82 1589.33 1525.11 Q1587.2 1523.37 1583.38 1523.37 L1579.35 1523.37 L1579.35 1519.53 L1583.57 1519.53 Q1587.02 1519.53 1588.84 1518.16 Q1590.67 1516.77 1590.67 1514.18 Q1590.67 1511.52 1588.77 1510.11 Q1586.9 1508.67 1583.38 1508.67 Q1581.46 1508.67 1579.26 1509.09 Q1577.06 1509.5 1574.42 1510.38 L1574.42 1506.22 Q1577.09 1505.48 1579.4 1505.11 Q1581.74 1504.73 1583.8 1504.73 Q1589.12 1504.73 1592.22 1507.17 Q1595.33 1509.57 1595.33 1513.69 Q1595.33 1516.56 1593.68 1518.55 Q1592.04 1520.52 1589.01 1521.29 Z\" fill=\"#000000\" fill-rule=\"evenodd\" fill-opacity=\"1\" /><path clip-path=\"url(#clip610)\" d=\"M 0 0 M2292.35 1509.43 L2280.55 1527.88 L2292.35 1527.88 L2292.35 1509.43 M2291.13 1505.36 L2297.01 1505.36 L2297.01 1527.88 L2301.94 1527.88 L2301.94 1531.77 L2297.01 1531.77 L2297.01 1539.92 L2292.35 1539.92 L2292.35 1531.77 L2276.75 1531.77 L2276.75 1527.26 L2291.13 1505.36 Z\" fill=\"#000000\" fill-rule=\"evenodd\" fill-opacity=\"1\" /><path clip-path=\"url(#clip610)\" d=\"M 0 0 M71.8578 1459.06 L88.1772 1459.06 L88.1772 1463 L66.2328 1463 L66.2328 1459.06 Q68.8949 1456.31 73.4782 1451.68 Q78.0846 1447.02 79.2652 1445.68 Q81.5105 1443.16 82.3902 1441.42 Q83.2929 1439.66 83.2929 1437.97 Q83.2929 1435.22 81.3485 1433.48 Q79.4272 1431.75 76.3254 1431.75 Q74.1263 1431.75 71.6726 1432.51 Q69.2421 1433.27 66.4643 1434.82 L66.4643 1430.1 Q69.2884 1428.97 71.7421 1428.39 Q74.1958 1427.81 76.2328 1427.81 Q81.6031 1427.81 84.7976 1430.5 Q87.992 1433.18 87.992 1437.67 Q87.992 1439.8 87.1818 1441.72 Q86.3948 1443.62 84.2883 1446.21 Q83.7096 1446.88 80.6078 1450.1 Q77.5059 1453.3 71.8578 1459.06 Z\" fill=\"#000000\" fill-rule=\"evenodd\" fill-opacity=\"1\" /><path clip-path=\"url(#clip610)\" d=\"M 0 0 M81.0476 991.782 Q84.404 992.499 86.279 994.768 Q88.1772 997.036 88.1772 1000.37 Q88.1772 1005.49 84.6587 1008.29 Q81.1402 1011.09 74.6587 1011.09 Q72.4828 1011.09 70.168 1010.65 Q67.8764 1010.23 65.4227 1009.37 L65.4227 1004.86 Q67.3671 1005.99 69.6819 1006.57 Q71.9967 1007.15 74.5198 1007.15 Q78.918 1007.15 81.2096 1005.42 Q83.5244 1003.68 83.5244 1000.37 Q83.5244 997.314 81.3717 995.601 Q79.242 993.865 75.4226 993.865 L71.3949 993.865 L71.3949 990.022 L75.6078 990.022 Q79.0569 990.022 80.8855 988.657 Q82.7142 987.268 82.7142 984.675 Q82.7142 982.013 80.8161 980.601 Q78.9411 979.166 75.4226 979.166 Q73.5013 979.166 71.3023 979.583 Q69.1032 979.999 66.4643 980.879 L66.4643 976.712 Q69.1264 975.972 71.4412 975.601 Q73.7791 975.231 75.8393 975.231 Q81.1633 975.231 84.2652 977.661 Q87.367 980.069 87.367 984.189 Q87.367 987.06 85.7235 989.05 Q84.08 991.018 81.0476 991.782 Z\" fill=\"#000000\" fill-rule=\"evenodd\" fill-opacity=\"1\" /><path clip-path=\"url(#clip610)\" d=\"M 0 0 M78.5939 527.35 L66.7884 545.799 L78.5939 545.799 L78.5939 527.35 M77.367 523.276 L83.2466 523.276 L83.2466 545.799 L88.1772 545.799 L88.1772 549.688 L83.2466 549.688 L83.2466 557.836 L78.5939 557.836 L78.5939 549.688 L62.9921 549.688 L62.9921 545.174 L77.367 523.276 Z\" fill=\"#000000\" fill-rule=\"evenodd\" fill-opacity=\"1\" /><path clip-path=\"url(#clip610)\" d=\"M 0 0 M67.2745 70.6963 L85.6309 70.6963 L85.6309 74.6314 L71.5569 74.6314 L71.5569 83.1036 Q72.5754 82.7564 73.5939 82.5944 Q74.6124 82.4092 75.6309 82.4092 Q81.418 82.4092 84.7976 85.5805 Q88.1772 88.7517 88.1772 94.1684 Q88.1772 99.747 84.705 102.849 Q81.2328 105.928 74.9134 105.928 Q72.7374 105.928 70.4689 105.557 Q68.2236 105.187 65.8162 104.446 L65.8162 99.747 Q67.8995 100.881 70.1217 101.437 Q72.3439 101.992 74.8208 101.992 Q78.8254 101.992 81.1633 99.8859 Q83.5013 97.7795 83.5013 94.1684 Q83.5013 90.5573 81.1633 88.4508 Q78.8254 86.3443 74.8208 86.3443 Q72.9458 86.3443 71.0708 86.761 Q69.2189 87.1777 67.2745 88.0573 L67.2745 70.6963 Z\" fill=\"#000000\" fill-rule=\"evenodd\" fill-opacity=\"1\" /><circle clip-path=\"url(#clip612)\" cx=\"175.59\" cy=\"1445.72\" r=\"14\" fill=\"#009af9\" fill-rule=\"evenodd\" fill-opacity=\"1\" stroke=\"#000000\" stroke-opacity=\"1\" stroke-width=\"3.2\"/>\n",
       "<circle clip-path=\"url(#clip612)\" cx=\"880.174\" cy=\"993.136\" r=\"14\" fill=\"#009af9\" fill-rule=\"evenodd\" fill-opacity=\"1\" stroke=\"#000000\" stroke-opacity=\"1\" stroke-width=\"3.2\"/>\n",
       "<circle clip-path=\"url(#clip612)\" cx=\"1584.76\" cy=\"993.136\" r=\"14\" fill=\"#009af9\" fill-rule=\"evenodd\" fill-opacity=\"1\" stroke=\"#000000\" stroke-opacity=\"1\" stroke-width=\"3.2\"/>\n",
       "<circle clip-path=\"url(#clip612)\" cx=\"2289.34\" cy=\"87.9763\" r=\"14\" fill=\"#009af9\" fill-rule=\"evenodd\" fill-opacity=\"1\" stroke=\"#000000\" stroke-opacity=\"1\" stroke-width=\"3.2\"/>\n",
       "<path clip-path=\"url(#clip610)\" d=\"\n",
       "M1989.74 251.724 L2280.76 251.724 L2280.76 130.764 L1989.74 130.764  Z\n",
       "  \" fill=\"#ffffff\" fill-rule=\"evenodd\" fill-opacity=\"1\"/>\n",
       "<polyline clip-path=\"url(#clip610)\" style=\"stroke:#000000; stroke-width:4; stroke-opacity:1; fill:none\" points=\"\n",
       "  1989.74,251.724 2280.76,251.724 2280.76,130.764 1989.74,130.764 1989.74,251.724 \n",
       "  \"/>\n",
       "<circle clip-path=\"url(#clip610)\" cx=\"2097.74\" cy=\"191.244\" r=\"23\" fill=\"#009af9\" fill-rule=\"evenodd\" fill-opacity=\"1\" stroke=\"#000000\" stroke-opacity=\"1\" stroke-width=\"5.12\"/>\n",
       "<path clip-path=\"url(#clip610)\" d=\"M 0 0 M2195.58 210.931 Q2193.77 215.561 2192.06 216.973 Q2190.35 218.385 2187.48 218.385 L2184.08 218.385 L2184.08 214.82 L2186.58 214.82 Q2188.33 214.82 2189.31 213.987 Q2190.28 213.154 2191.46 210.052 L2192.22 208.107 L2181.74 182.598 L2186.25 182.598 L2194.35 202.876 L2202.46 182.598 L2206.97 182.598 L2195.58 210.931 Z\" fill=\"#000000\" fill-rule=\"evenodd\" fill-opacity=\"1\" /><path clip-path=\"url(#clip610)\" d=\"M 0 0 M2212.85 204.589 L2220.49 204.589 L2220.49 178.223 L2212.18 179.89 L2212.18 175.631 L2220.44 173.964 L2225.12 173.964 L2225.12 204.589 L2232.76 204.589 L2232.76 208.524 L2212.85 208.524 L2212.85 204.589 Z\" fill=\"#000000\" fill-rule=\"evenodd\" fill-opacity=\"1\" /></svg>\n"
      ]
     },
     "execution_count": 8,
     "metadata": {},
     "output_type": "execute_result"
    }
   ],
   "source": [
    "plot(t,b,seriestype=:scatter)"
   ]
  },
  {
   "cell_type": "markdown",
   "metadata": {},
   "source": [
    "Fit with a straight line (k=2)<br>\n",
    "y = C + D*t<br>\n",
    "x = [C D]'<br>\n",
    "$Ax=b$<br>\n",
    "<br>\n",
    "We approximate with $A \\hat{x} = p$<br>\n",
    "Minimizing the least squares of e = b - p yields:<br><br>\n",
    "$ A^Tb = A^TA \\hat{x} $<br>\n",
    "and: <br>\n",
    "$ \\hat{x} = (A^T A)^{-1} A^T b$"
   ]
  },
  {
   "cell_type": "code",
   "execution_count": 10,
   "metadata": {},
   "outputs": [
    {
     "data": {
      "text/plain": [
       "4×2 Array{Int64,2}:\n",
       " 1  1\n",
       " 1  2\n",
       " 1  3\n",
       " 1  4"
      ]
     },
     "execution_count": 10,
     "metadata": {},
     "output_type": "execute_result"
    }
   ],
   "source": [
    "A2=[ [1;1;1;1]  [1;2;3;4]]"
   ]
  },
  {
   "cell_type": "code",
   "execution_count": 12,
   "metadata": {},
   "outputs": [
    {
     "data": {
      "text/plain": [
       "2×1 Array{Float64,2}:\n",
       " 0.9999999999999956\n",
       " 0.9000000000000006"
      ]
     },
     "execution_count": 12,
     "metadata": {},
     "output_type": "execute_result"
    }
   ],
   "source": [
    "x_hat2 = inv(A2'*A2)*A2'*b"
   ]
  },
  {
   "cell_type": "code",
   "execution_count": 13,
   "metadata": {},
   "outputs": [
    {
     "data": {
      "image/svg+xml": [
       "<?xml version=\"1.0\" encoding=\"utf-8\"?>\n",
       "<svg xmlns=\"http://www.w3.org/2000/svg\" xmlns:xlink=\"http://www.w3.org/1999/xlink\" width=\"600\" height=\"400\" viewBox=\"0 0 2400 1600\">\n",
       "<defs>\n",
       "  <clipPath id=\"clip650\">\n",
       "    <rect x=\"0\" y=\"0\" width=\"2400\" height=\"1600\"/>\n",
       "  </clipPath>\n",
       "</defs>\n",
       "<path clip-path=\"url(#clip650)\" d=\"\n",
       "M0 1600 L2400 1600 L2400 0 L0 0  Z\n",
       "  \" fill=\"#ffffff\" fill-rule=\"evenodd\" fill-opacity=\"1\"/>\n",
       "<defs>\n",
       "  <clipPath id=\"clip651\">\n",
       "    <rect x=\"480\" y=\"0\" width=\"1681\" height=\"1600\"/>\n",
       "  </clipPath>\n",
       "</defs>\n",
       "<path clip-path=\"url(#clip650)\" d=\"\n",
       "M112.177 1486.45 L2352.76 1486.45 L2352.76 47.2441 L112.177 47.2441  Z\n",
       "  \" fill=\"#ffffff\" fill-rule=\"evenodd\" fill-opacity=\"1\"/>\n",
       "<defs>\n",
       "  <clipPath id=\"clip652\">\n",
       "    <rect x=\"112\" y=\"47\" width=\"2242\" height=\"1440\"/>\n",
       "  </clipPath>\n",
       "</defs>\n",
       "<polyline clip-path=\"url(#clip652)\" style=\"stroke:#000000; stroke-width:2; stroke-opacity:0.1; fill:none\" points=\"\n",
       "  175.59,1486.45 175.59,47.2441 \n",
       "  \"/>\n",
       "<polyline clip-path=\"url(#clip652)\" style=\"stroke:#000000; stroke-width:2; stroke-opacity:0.1; fill:none\" points=\"\n",
       "  598.34,1486.45 598.34,47.2441 \n",
       "  \"/>\n",
       "<polyline clip-path=\"url(#clip652)\" style=\"stroke:#000000; stroke-width:2; stroke-opacity:0.1; fill:none\" points=\"\n",
       "  1021.09,1486.45 1021.09,47.2441 \n",
       "  \"/>\n",
       "<polyline clip-path=\"url(#clip652)\" style=\"stroke:#000000; stroke-width:2; stroke-opacity:0.1; fill:none\" points=\"\n",
       "  1443.84,1486.45 1443.84,47.2441 \n",
       "  \"/>\n",
       "<polyline clip-path=\"url(#clip652)\" style=\"stroke:#000000; stroke-width:2; stroke-opacity:0.1; fill:none\" points=\"\n",
       "  1866.59,1486.45 1866.59,47.2441 \n",
       "  \"/>\n",
       "<polyline clip-path=\"url(#clip652)\" style=\"stroke:#000000; stroke-width:2; stroke-opacity:0.1; fill:none\" points=\"\n",
       "  2289.34,1486.45 2289.34,47.2441 \n",
       "  \"/>\n",
       "<polyline clip-path=\"url(#clip652)\" style=\"stroke:#000000; stroke-width:2; stroke-opacity:0.1; fill:none\" points=\"\n",
       "  112.177,1445.72 2352.76,1445.72 \n",
       "  \"/>\n",
       "<polyline clip-path=\"url(#clip652)\" style=\"stroke:#000000; stroke-width:2; stroke-opacity:0.1; fill:none\" points=\"\n",
       "  112.177,1144 2352.76,1144 \n",
       "  \"/>\n",
       "<polyline clip-path=\"url(#clip652)\" style=\"stroke:#000000; stroke-width:2; stroke-opacity:0.1; fill:none\" points=\"\n",
       "  112.177,842.276 2352.76,842.276 \n",
       "  \"/>\n",
       "<polyline clip-path=\"url(#clip652)\" style=\"stroke:#000000; stroke-width:2; stroke-opacity:0.1; fill:none\" points=\"\n",
       "  112.177,540.556 2352.76,540.556 \n",
       "  \"/>\n",
       "<polyline clip-path=\"url(#clip652)\" style=\"stroke:#000000; stroke-width:2; stroke-opacity:0.1; fill:none\" points=\"\n",
       "  112.177,238.836 2352.76,238.836 \n",
       "  \"/>\n",
       "<polyline clip-path=\"url(#clip650)\" style=\"stroke:#000000; stroke-width:4; stroke-opacity:1; fill:none\" points=\"\n",
       "  112.177,1486.45 2352.76,1486.45 \n",
       "  \"/>\n",
       "<polyline clip-path=\"url(#clip650)\" style=\"stroke:#000000; stroke-width:4; stroke-opacity:1; fill:none\" points=\"\n",
       "  112.177,1486.45 112.177,47.2441 \n",
       "  \"/>\n",
       "<polyline clip-path=\"url(#clip650)\" style=\"stroke:#000000; stroke-width:4; stroke-opacity:1; fill:none\" points=\"\n",
       "  175.59,1486.45 175.59,1469.18 \n",
       "  \"/>\n",
       "<polyline clip-path=\"url(#clip650)\" style=\"stroke:#000000; stroke-width:4; stroke-opacity:1; fill:none\" points=\"\n",
       "  598.34,1486.45 598.34,1469.18 \n",
       "  \"/>\n",
       "<polyline clip-path=\"url(#clip650)\" style=\"stroke:#000000; stroke-width:4; stroke-opacity:1; fill:none\" points=\"\n",
       "  1021.09,1486.45 1021.09,1469.18 \n",
       "  \"/>\n",
       "<polyline clip-path=\"url(#clip650)\" style=\"stroke:#000000; stroke-width:4; stroke-opacity:1; fill:none\" points=\"\n",
       "  1443.84,1486.45 1443.84,1469.18 \n",
       "  \"/>\n",
       "<polyline clip-path=\"url(#clip650)\" style=\"stroke:#000000; stroke-width:4; stroke-opacity:1; fill:none\" points=\"\n",
       "  1866.59,1486.45 1866.59,1469.18 \n",
       "  \"/>\n",
       "<polyline clip-path=\"url(#clip650)\" style=\"stroke:#000000; stroke-width:4; stroke-opacity:1; fill:none\" points=\"\n",
       "  2289.34,1486.45 2289.34,1469.18 \n",
       "  \"/>\n",
       "<polyline clip-path=\"url(#clip650)\" style=\"stroke:#000000; stroke-width:4; stroke-opacity:1; fill:none\" points=\"\n",
       "  112.177,1445.72 139.064,1445.72 \n",
       "  \"/>\n",
       "<polyline clip-path=\"url(#clip650)\" style=\"stroke:#000000; stroke-width:4; stroke-opacity:1; fill:none\" points=\"\n",
       "  112.177,1144 139.064,1144 \n",
       "  \"/>\n",
       "<polyline clip-path=\"url(#clip650)\" style=\"stroke:#000000; stroke-width:4; stroke-opacity:1; fill:none\" points=\"\n",
       "  112.177,842.276 139.064,842.276 \n",
       "  \"/>\n",
       "<polyline clip-path=\"url(#clip650)\" style=\"stroke:#000000; stroke-width:4; stroke-opacity:1; fill:none\" points=\"\n",
       "  112.177,540.556 139.064,540.556 \n",
       "  \"/>\n",
       "<polyline clip-path=\"url(#clip650)\" style=\"stroke:#000000; stroke-width:4; stroke-opacity:1; fill:none\" points=\"\n",
       "  112.177,238.836 139.064,238.836 \n",
       "  \"/>\n",
       "<path clip-path=\"url(#clip650)\" d=\"M 0 0 M175.59 1508.44 Q171.979 1508.44 170.15 1512 Q168.344 1515.55 168.344 1522.67 Q168.344 1529.78 170.15 1533.35 Q171.979 1536.89 175.59 1536.89 Q179.224 1536.89 181.03 1533.35 Q182.858 1529.78 182.858 1522.67 Q182.858 1515.55 181.03 1512 Q179.224 1508.44 175.59 1508.44 M175.59 1504.73 Q181.4 1504.73 184.455 1509.34 Q187.534 1513.92 187.534 1522.67 Q187.534 1531.4 184.455 1536.01 Q181.4 1540.59 175.59 1540.59 Q169.78 1540.59 166.701 1536.01 Q163.645 1531.4 163.645 1522.67 Q163.645 1513.92 166.701 1509.34 Q169.78 1504.73 175.59 1504.73 Z\" fill=\"#000000\" fill-rule=\"evenodd\" fill-opacity=\"1\" /><path clip-path=\"url(#clip650)\" d=\"M 0 0 M588.722 1535.98 L596.361 1535.98 L596.361 1509.62 L588.051 1511.29 L588.051 1507.03 L596.315 1505.36 L600.991 1505.36 L600.991 1535.98 L608.63 1535.98 L608.63 1539.92 L588.722 1539.92 L588.722 1535.98 Z\" fill=\"#000000\" fill-rule=\"evenodd\" fill-opacity=\"1\" /><path clip-path=\"url(#clip650)\" d=\"M 0 0 M1015.74 1535.98 L1032.06 1535.98 L1032.06 1539.92 L1010.12 1539.92 L1010.12 1535.98 Q1012.78 1533.23 1017.36 1528.6 Q1021.97 1523.95 1023.15 1522.61 Q1025.4 1520.08 1026.28 1518.35 Q1027.18 1516.59 1027.18 1514.9 Q1027.18 1512.14 1025.23 1510.41 Q1023.31 1508.67 1020.21 1508.67 Q1018.01 1508.67 1015.56 1509.43 Q1013.13 1510.2 1010.35 1511.75 L1010.35 1507.03 Q1013.17 1505.89 1015.63 1505.31 Q1018.08 1504.73 1020.12 1504.73 Q1025.49 1504.73 1028.68 1507.42 Q1031.88 1510.11 1031.88 1514.6 Q1031.88 1516.73 1031.07 1518.65 Q1030.28 1520.54 1028.17 1523.14 Q1027.6 1523.81 1024.49 1527.03 Q1021.39 1530.22 1015.74 1535.98 Z\" fill=\"#000000\" fill-rule=\"evenodd\" fill-opacity=\"1\" /><path clip-path=\"url(#clip650)\" d=\"M 0 0 M1448.09 1521.29 Q1451.45 1522 1453.32 1524.27 Q1455.22 1526.54 1455.22 1529.87 Q1455.22 1534.99 1451.7 1537.79 Q1448.18 1540.59 1441.7 1540.59 Q1439.52 1540.59 1437.21 1540.15 Q1434.92 1539.73 1432.46 1538.88 L1432.46 1534.36 Q1434.41 1535.5 1436.72 1536.08 Q1439.04 1536.66 1441.56 1536.66 Q1445.96 1536.66 1448.25 1534.92 Q1450.57 1533.18 1450.57 1529.87 Q1450.57 1526.82 1448.41 1525.11 Q1446.28 1523.37 1442.46 1523.37 L1438.44 1523.37 L1438.44 1519.53 L1442.65 1519.53 Q1446.1 1519.53 1447.93 1518.16 Q1449.76 1516.77 1449.76 1514.18 Q1449.76 1511.52 1447.86 1510.11 Q1445.98 1508.67 1442.46 1508.67 Q1440.54 1508.67 1438.34 1509.09 Q1436.15 1509.5 1433.51 1510.38 L1433.51 1506.22 Q1436.17 1505.48 1438.48 1505.11 Q1440.82 1504.73 1442.88 1504.73 Q1448.21 1504.73 1451.31 1507.17 Q1454.41 1509.57 1454.41 1513.69 Q1454.41 1516.56 1452.77 1518.55 Q1451.12 1520.52 1448.09 1521.29 Z\" fill=\"#000000\" fill-rule=\"evenodd\" fill-opacity=\"1\" /><path clip-path=\"url(#clip650)\" d=\"M 0 0 M1869.6 1509.43 L1857.8 1527.88 L1869.6 1527.88 L1869.6 1509.43 M1868.37 1505.36 L1874.25 1505.36 L1874.25 1527.88 L1879.19 1527.88 L1879.19 1531.77 L1874.25 1531.77 L1874.25 1539.92 L1869.6 1539.92 L1869.6 1531.77 L1854 1531.77 L1854 1527.26 L1868.37 1505.36 Z\" fill=\"#000000\" fill-rule=\"evenodd\" fill-opacity=\"1\" /><path clip-path=\"url(#clip650)\" d=\"M 0 0 M2279.62 1505.36 L2297.98 1505.36 L2297.98 1509.3 L2283.9 1509.3 L2283.9 1517.77 Q2284.92 1517.42 2285.94 1517.26 Q2286.96 1517.07 2287.98 1517.07 Q2293.76 1517.07 2297.14 1520.24 Q2300.52 1523.42 2300.52 1528.83 Q2300.52 1534.41 2297.05 1537.51 Q2293.58 1540.59 2287.26 1540.59 Q2285.08 1540.59 2282.82 1540.22 Q2280.57 1539.85 2278.16 1539.11 L2278.16 1534.41 Q2280.25 1535.54 2282.47 1536.1 Q2284.69 1536.66 2287.17 1536.66 Q2291.17 1536.66 2293.51 1534.55 Q2295.85 1532.44 2295.85 1528.83 Q2295.85 1525.22 2293.51 1523.11 Q2291.17 1521.01 2287.17 1521.01 Q2285.29 1521.01 2283.42 1521.42 Q2281.57 1521.84 2279.62 1522.72 L2279.62 1505.36 Z\" fill=\"#000000\" fill-rule=\"evenodd\" fill-opacity=\"1\" /><path clip-path=\"url(#clip650)\" d=\"M 0 0 M68.2699 1459.06 L75.9087 1459.06 L75.9087 1432.69 L67.5986 1434.36 L67.5986 1430.1 L75.8624 1428.44 L80.5383 1428.44 L80.5383 1459.06 L88.1772 1459.06 L88.1772 1463 L68.2699 1463 L68.2699 1459.06 Z\" fill=\"#000000\" fill-rule=\"evenodd\" fill-opacity=\"1\" /><path clip-path=\"url(#clip650)\" d=\"M 0 0 M71.8578 1157.34 L88.1772 1157.34 L88.1772 1161.28 L66.2328 1161.28 L66.2328 1157.34 Q68.8949 1154.59 73.4782 1149.96 Q78.0846 1145.3 79.2652 1143.96 Q81.5105 1141.44 82.3902 1139.7 Q83.2929 1137.94 83.2929 1136.25 Q83.2929 1133.5 81.3485 1131.76 Q79.4272 1130.03 76.3254 1130.03 Q74.1263 1130.03 71.6726 1130.79 Q69.2421 1131.55 66.4643 1133.1 L66.4643 1128.38 Q69.2884 1127.25 71.7421 1126.67 Q74.1958 1126.09 76.2328 1126.09 Q81.6031 1126.09 84.7976 1128.78 Q87.992 1131.46 87.992 1135.95 Q87.992 1138.08 87.1818 1140 Q86.3948 1141.9 84.2883 1144.49 Q83.7096 1145.16 80.6078 1148.38 Q77.5059 1151.58 71.8578 1157.34 Z\" fill=\"#000000\" fill-rule=\"evenodd\" fill-opacity=\"1\" /><path clip-path=\"url(#clip650)\" d=\"M 0 0 M81.0476 840.922 Q84.404 841.639 86.279 843.908 Q88.1772 846.176 88.1772 849.51 Q88.1772 854.625 84.6587 857.426 Q81.1402 860.227 74.6587 860.227 Q72.4828 860.227 70.168 859.787 Q67.8764 859.371 65.4227 858.514 L65.4227 854 Q67.3671 855.135 69.6819 855.713 Q71.9967 856.292 74.5198 856.292 Q78.918 856.292 81.2096 854.556 Q83.5244 852.82 83.5244 849.51 Q83.5244 846.454 81.3717 844.741 Q79.242 843.005 75.4226 843.005 L71.3949 843.005 L71.3949 839.163 L75.6078 839.163 Q79.0569 839.163 80.8855 837.797 Q82.7142 836.408 82.7142 833.815 Q82.7142 831.153 80.8161 829.741 Q78.9411 828.306 75.4226 828.306 Q73.5013 828.306 71.3023 828.723 Q69.1032 829.139 66.4643 830.019 L66.4643 825.852 Q69.1264 825.112 71.4412 824.741 Q73.7791 824.371 75.8393 824.371 Q81.1633 824.371 84.2652 826.801 Q87.367 829.209 87.367 833.329 Q87.367 836.2 85.7235 838.19 Q84.08 840.158 81.0476 840.922 Z\" fill=\"#000000\" fill-rule=\"evenodd\" fill-opacity=\"1\" /><path clip-path=\"url(#clip650)\" d=\"M 0 0 M78.5939 527.35 L66.7884 545.799 L78.5939 545.799 L78.5939 527.35 M77.367 523.276 L83.2466 523.276 L83.2466 545.799 L88.1772 545.799 L88.1772 549.688 L83.2466 549.688 L83.2466 557.836 L78.5939 557.836 L78.5939 549.688 L62.9921 549.688 L62.9921 545.174 L77.367 523.276 Z\" fill=\"#000000\" fill-rule=\"evenodd\" fill-opacity=\"1\" /><path clip-path=\"url(#clip650)\" d=\"M 0 0 M67.2745 221.556 L85.6309 221.556 L85.6309 225.491 L71.5569 225.491 L71.5569 233.964 Q72.5754 233.616 73.5939 233.454 Q74.6124 233.269 75.6309 233.269 Q81.418 233.269 84.7976 236.44 Q88.1772 239.612 88.1772 245.028 Q88.1772 250.607 84.705 253.709 Q81.2328 256.788 74.9134 256.788 Q72.7374 256.788 70.4689 256.417 Q68.2236 256.047 65.8162 255.306 L65.8162 250.607 Q67.8995 251.741 70.1217 252.297 Q72.3439 252.852 74.8208 252.852 Q78.8254 252.852 81.1633 250.746 Q83.5013 248.639 83.5013 245.028 Q83.5013 241.417 81.1633 239.311 Q78.8254 237.204 74.8208 237.204 Q72.9458 237.204 71.0708 237.621 Q69.2189 238.038 67.2745 238.917 L67.2745 221.556 Z\" fill=\"#000000\" fill-rule=\"evenodd\" fill-opacity=\"1\" /><circle clip-path=\"url(#clip652)\" cx=\"598.34\" cy=\"1144\" r=\"14\" fill=\"#009af9\" fill-rule=\"evenodd\" fill-opacity=\"1\" stroke=\"#000000\" stroke-opacity=\"1\" stroke-width=\"3.2\"/>\n",
       "<circle clip-path=\"url(#clip652)\" cx=\"1021.09\" cy=\"842.276\" r=\"14\" fill=\"#009af9\" fill-rule=\"evenodd\" fill-opacity=\"1\" stroke=\"#000000\" stroke-opacity=\"1\" stroke-width=\"3.2\"/>\n",
       "<circle clip-path=\"url(#clip652)\" cx=\"1443.84\" cy=\"842.276\" r=\"14\" fill=\"#009af9\" fill-rule=\"evenodd\" fill-opacity=\"1\" stroke=\"#000000\" stroke-opacity=\"1\" stroke-width=\"3.2\"/>\n",
       "<circle clip-path=\"url(#clip652)\" cx=\"1866.59\" cy=\"238.836\" r=\"14\" fill=\"#009af9\" fill-rule=\"evenodd\" fill-opacity=\"1\" stroke=\"#000000\" stroke-opacity=\"1\" stroke-width=\"3.2\"/>\n",
       "<polyline clip-path=\"url(#clip652)\" style=\"stroke:#e26f46; stroke-width:4; stroke-opacity:1; fill:none\" points=\"\n",
       "  175.59,1445.72 217.865,1418.56 260.14,1391.41 302.415,1364.25 344.69,1337.1 386.965,1309.94 429.24,1282.79 471.515,1255.63 513.79,1228.48 556.065,1201.32 \n",
       "  598.34,1174.17 640.616,1147.01 682.891,1119.86 725.166,1092.7 767.441,1065.55 809.716,1038.39 851.991,1011.24 894.266,984.084 936.541,956.93 978.816,929.775 \n",
       "  1021.09,902.62 1063.37,875.465 1105.64,848.31 1147.92,821.156 1190.19,794.001 1232.47,766.846 1274.74,739.691 1317.02,712.536 1359.29,685.382 1401.57,658.227 \n",
       "  1443.84,631.072 1486.12,603.917 1528.39,576.762 1570.67,549.608 1612.94,522.453 1655.22,495.298 1697.49,468.143 1739.77,440.989 1782.04,413.834 1824.32,386.679 \n",
       "  1866.59,359.524 1908.87,332.369 1951.14,305.215 1993.42,278.06 2035.69,250.905 2077.97,223.75 2120.24,196.595 2162.52,169.441 2204.79,142.286 2247.07,115.131 \n",
       "  2289.34,87.9763 \n",
       "  \"/>\n",
       "<path clip-path=\"url(#clip650)\" d=\"\n",
       "M1989.74 312.204 L2280.76 312.204 L2280.76 130.764 L1989.74 130.764  Z\n",
       "  \" fill=\"#ffffff\" fill-rule=\"evenodd\" fill-opacity=\"1\"/>\n",
       "<polyline clip-path=\"url(#clip650)\" style=\"stroke:#000000; stroke-width:4; stroke-opacity:1; fill:none\" points=\"\n",
       "  1989.74,312.204 2280.76,312.204 2280.76,130.764 1989.74,130.764 1989.74,312.204 \n",
       "  \"/>\n",
       "<circle clip-path=\"url(#clip650)\" cx=\"2097.74\" cy=\"191.244\" r=\"23\" fill=\"#009af9\" fill-rule=\"evenodd\" fill-opacity=\"1\" stroke=\"#000000\" stroke-opacity=\"1\" stroke-width=\"5.12\"/>\n",
       "<path clip-path=\"url(#clip650)\" d=\"M 0 0 M2195.58 210.931 Q2193.77 215.561 2192.06 216.973 Q2190.35 218.385 2187.48 218.385 L2184.08 218.385 L2184.08 214.82 L2186.58 214.82 Q2188.33 214.82 2189.31 213.987 Q2190.28 213.154 2191.46 210.052 L2192.22 208.107 L2181.74 182.598 L2186.25 182.598 L2194.35 202.876 L2202.46 182.598 L2206.97 182.598 L2195.58 210.931 Z\" fill=\"#000000\" fill-rule=\"evenodd\" fill-opacity=\"1\" /><path clip-path=\"url(#clip650)\" d=\"M 0 0 M2212.85 204.589 L2220.49 204.589 L2220.49 178.223 L2212.18 179.89 L2212.18 175.631 L2220.44 173.964 L2225.12 173.964 L2225.12 204.589 L2232.76 204.589 L2232.76 208.524 L2212.85 208.524 L2212.85 204.589 Z\" fill=\"#000000\" fill-rule=\"evenodd\" fill-opacity=\"1\" /><polyline clip-path=\"url(#clip650)\" style=\"stroke:#e26f46; stroke-width:4; stroke-opacity:1; fill:none\" points=\"\n",
       "  2013.74,251.724 2157.74,251.724 \n",
       "  \"/>\n",
       "<path clip-path=\"url(#clip650)\" d=\"M 0 0 M2195.58 271.411 Q2193.77 276.041 2192.06 277.453 Q2190.35 278.865 2187.48 278.865 L2184.08 278.865 L2184.08 275.3 L2186.58 275.3 Q2188.33 275.3 2189.31 274.467 Q2190.28 273.634 2191.46 270.532 L2192.22 268.587 L2181.74 243.078 L2186.25 243.078 L2194.35 263.356 L2202.46 243.078 L2206.97 243.078 L2195.58 271.411 Z\" fill=\"#000000\" fill-rule=\"evenodd\" fill-opacity=\"1\" /><path clip-path=\"url(#clip650)\" d=\"M 0 0 M2216.07 265.069 L2232.39 265.069 L2232.39 269.004 L2210.44 269.004 L2210.44 265.069 Q2213.1 262.314 2217.69 257.685 Q2222.29 253.032 2223.47 251.689 Q2225.72 249.166 2226.6 247.43 Q2227.5 245.671 2227.5 243.981 Q2227.5 241.226 2225.56 239.49 Q2223.64 237.754 2220.53 237.754 Q2218.33 237.754 2215.88 238.518 Q2213.45 239.282 2210.67 240.833 L2210.67 236.111 Q2213.5 234.976 2215.95 234.398 Q2218.4 233.819 2220.44 233.819 Q2225.81 233.819 2229.01 236.504 Q2232.2 239.189 2232.2 243.68 Q2232.2 245.81 2231.39 247.731 Q2230.6 249.629 2228.5 252.222 Q2227.92 252.893 2224.82 256.111 Q2221.71 259.305 2216.07 265.069 Z\" fill=\"#000000\" fill-rule=\"evenodd\" fill-opacity=\"1\" /></svg>\n"
      ]
     },
     "execution_count": 13,
     "metadata": {},
     "output_type": "execute_result"
    }
   ],
   "source": [
    "C2=x_hat2[1];D2=x_hat2[2];\n",
    "x=0:0.1:5\n",
    "plot(t,b,seriestype=:scatter)\n",
    "plot!(x,x->C2+D2*x)"
   ]
  },
  {
   "cell_type": "code",
   "execution_count": 24,
   "metadata": {},
   "outputs": [
    {
     "data": {
      "text/plain": [
       "1×1 Array{Float64,2}:\n",
       " 0.8366600265340757"
      ]
     },
     "execution_count": 24,
     "metadata": {},
     "output_type": "execute_result"
    }
   ],
   "source": [
    "p2=A2*x_hat2;\n",
    "e2=b-p2;\n",
    "Error3 = sqrt(e2'*e2)"
   ]
  },
  {
   "cell_type": "markdown",
   "metadata": {},
   "source": [
    "Fit with parabola (k=3)"
   ]
  },
  {
   "cell_type": "code",
   "execution_count": 16,
   "metadata": {},
   "outputs": [
    {
     "data": {
      "text/plain": [
       "4×3 Array{Int64,2}:\n",
       " 1  1   1\n",
       " 1  2   4\n",
       " 1  3   9\n",
       " 1  4  16"
      ]
     },
     "execution_count": 16,
     "metadata": {},
     "output_type": "execute_result"
    }
   ],
   "source": [
    "A3=[A2 [1;4;9;16]]"
   ]
  },
  {
   "cell_type": "code",
   "execution_count": 21,
   "metadata": {},
   "outputs": [
    {
     "data": {
      "text/plain": [
       "3×1 Array{Float64,2}:\n",
       "  2.24999999999996\n",
       " -0.3499999999999641\n",
       "  0.249999999999994"
      ]
     },
     "execution_count": 21,
     "metadata": {},
     "output_type": "execute_result"
    }
   ],
   "source": [
    "x_hat3 = inv(A3'*A3)*A3'*b"
   ]
  },
  {
   "cell_type": "code",
   "execution_count": 23,
   "metadata": {},
   "outputs": [
    {
     "data": {
      "text/plain": [
       "1×1 Array{Float64,2}:\n",
       " 0.6708203932499367"
      ]
     },
     "execution_count": 23,
     "metadata": {},
     "output_type": "execute_result"
    }
   ],
   "source": [
    "p3=A3*x_hat3;\n",
    "e3=b-p3;\n",
    "Error3 = sqrt(e3'*e3)"
   ]
  },
  {
   "cell_type": "code",
   "execution_count": 20,
   "metadata": {},
   "outputs": [
    {
     "data": {
      "image/svg+xml": [
       "<?xml version=\"1.0\" encoding=\"utf-8\"?>\n",
       "<svg xmlns=\"http://www.w3.org/2000/svg\" xmlns:xlink=\"http://www.w3.org/1999/xlink\" width=\"600\" height=\"400\" viewBox=\"0 0 2400 1600\">\n",
       "<defs>\n",
       "  <clipPath id=\"clip730\">\n",
       "    <rect x=\"0\" y=\"0\" width=\"2400\" height=\"1600\"/>\n",
       "  </clipPath>\n",
       "</defs>\n",
       "<path clip-path=\"url(#clip730)\" d=\"\n",
       "M0 1600 L2400 1600 L2400 0 L0 0  Z\n",
       "  \" fill=\"#ffffff\" fill-rule=\"evenodd\" fill-opacity=\"1\"/>\n",
       "<defs>\n",
       "  <clipPath id=\"clip731\">\n",
       "    <rect x=\"480\" y=\"0\" width=\"1681\" height=\"1600\"/>\n",
       "  </clipPath>\n",
       "</defs>\n",
       "<path clip-path=\"url(#clip730)\" d=\"\n",
       "M112.177 1486.45 L2352.76 1486.45 L2352.76 47.2441 L112.177 47.2441  Z\n",
       "  \" fill=\"#ffffff\" fill-rule=\"evenodd\" fill-opacity=\"1\"/>\n",
       "<defs>\n",
       "  <clipPath id=\"clip732\">\n",
       "    <rect x=\"112\" y=\"47\" width=\"2242\" height=\"1440\"/>\n",
       "  </clipPath>\n",
       "</defs>\n",
       "<polyline clip-path=\"url(#clip732)\" style=\"stroke:#000000; stroke-width:2; stroke-opacity:0.1; fill:none\" points=\"\n",
       "  175.59,1486.45 175.59,47.2441 \n",
       "  \"/>\n",
       "<polyline clip-path=\"url(#clip732)\" style=\"stroke:#000000; stroke-width:2; stroke-opacity:0.1; fill:none\" points=\"\n",
       "  598.34,1486.45 598.34,47.2441 \n",
       "  \"/>\n",
       "<polyline clip-path=\"url(#clip732)\" style=\"stroke:#000000; stroke-width:2; stroke-opacity:0.1; fill:none\" points=\"\n",
       "  1021.09,1486.45 1021.09,47.2441 \n",
       "  \"/>\n",
       "<polyline clip-path=\"url(#clip732)\" style=\"stroke:#000000; stroke-width:2; stroke-opacity:0.1; fill:none\" points=\"\n",
       "  1443.84,1486.45 1443.84,47.2441 \n",
       "  \"/>\n",
       "<polyline clip-path=\"url(#clip732)\" style=\"stroke:#000000; stroke-width:2; stroke-opacity:0.1; fill:none\" points=\"\n",
       "  1866.59,1486.45 1866.59,47.2441 \n",
       "  \"/>\n",
       "<polyline clip-path=\"url(#clip732)\" style=\"stroke:#000000; stroke-width:2; stroke-opacity:0.1; fill:none\" points=\"\n",
       "  2289.34,1486.45 2289.34,47.2441 \n",
       "  \"/>\n",
       "<polyline clip-path=\"url(#clip732)\" style=\"stroke:#000000; stroke-width:2; stroke-opacity:0.1; fill:none\" points=\"\n",
       "  112.177,1445.72 2352.76,1445.72 \n",
       "  \"/>\n",
       "<polyline clip-path=\"url(#clip732)\" style=\"stroke:#000000; stroke-width:2; stroke-opacity:0.1; fill:none\" points=\"\n",
       "  112.177,1209.59 2352.76,1209.59 \n",
       "  \"/>\n",
       "<polyline clip-path=\"url(#clip732)\" style=\"stroke:#000000; stroke-width:2; stroke-opacity:0.1; fill:none\" points=\"\n",
       "  112.177,973.459 2352.76,973.459 \n",
       "  \"/>\n",
       "<polyline clip-path=\"url(#clip732)\" style=\"stroke:#000000; stroke-width:2; stroke-opacity:0.1; fill:none\" points=\"\n",
       "  112.177,737.33 2352.76,737.33 \n",
       "  \"/>\n",
       "<polyline clip-path=\"url(#clip732)\" style=\"stroke:#000000; stroke-width:2; stroke-opacity:0.1; fill:none\" points=\"\n",
       "  112.177,501.201 2352.76,501.201 \n",
       "  \"/>\n",
       "<polyline clip-path=\"url(#clip732)\" style=\"stroke:#000000; stroke-width:2; stroke-opacity:0.1; fill:none\" points=\"\n",
       "  112.177,265.073 2352.76,265.073 \n",
       "  \"/>\n",
       "<polyline clip-path=\"url(#clip730)\" style=\"stroke:#000000; stroke-width:4; stroke-opacity:1; fill:none\" points=\"\n",
       "  112.177,1486.45 2352.76,1486.45 \n",
       "  \"/>\n",
       "<polyline clip-path=\"url(#clip730)\" style=\"stroke:#000000; stroke-width:4; stroke-opacity:1; fill:none\" points=\"\n",
       "  112.177,1486.45 112.177,47.2441 \n",
       "  \"/>\n",
       "<polyline clip-path=\"url(#clip730)\" style=\"stroke:#000000; stroke-width:4; stroke-opacity:1; fill:none\" points=\"\n",
       "  175.59,1486.45 175.59,1469.18 \n",
       "  \"/>\n",
       "<polyline clip-path=\"url(#clip730)\" style=\"stroke:#000000; stroke-width:4; stroke-opacity:1; fill:none\" points=\"\n",
       "  598.34,1486.45 598.34,1469.18 \n",
       "  \"/>\n",
       "<polyline clip-path=\"url(#clip730)\" style=\"stroke:#000000; stroke-width:4; stroke-opacity:1; fill:none\" points=\"\n",
       "  1021.09,1486.45 1021.09,1469.18 \n",
       "  \"/>\n",
       "<polyline clip-path=\"url(#clip730)\" style=\"stroke:#000000; stroke-width:4; stroke-opacity:1; fill:none\" points=\"\n",
       "  1443.84,1486.45 1443.84,1469.18 \n",
       "  \"/>\n",
       "<polyline clip-path=\"url(#clip730)\" style=\"stroke:#000000; stroke-width:4; stroke-opacity:1; fill:none\" points=\"\n",
       "  1866.59,1486.45 1866.59,1469.18 \n",
       "  \"/>\n",
       "<polyline clip-path=\"url(#clip730)\" style=\"stroke:#000000; stroke-width:4; stroke-opacity:1; fill:none\" points=\"\n",
       "  2289.34,1486.45 2289.34,1469.18 \n",
       "  \"/>\n",
       "<polyline clip-path=\"url(#clip730)\" style=\"stroke:#000000; stroke-width:4; stroke-opacity:1; fill:none\" points=\"\n",
       "  112.177,1445.72 139.064,1445.72 \n",
       "  \"/>\n",
       "<polyline clip-path=\"url(#clip730)\" style=\"stroke:#000000; stroke-width:4; stroke-opacity:1; fill:none\" points=\"\n",
       "  112.177,1209.59 139.064,1209.59 \n",
       "  \"/>\n",
       "<polyline clip-path=\"url(#clip730)\" style=\"stroke:#000000; stroke-width:4; stroke-opacity:1; fill:none\" points=\"\n",
       "  112.177,973.459 139.064,973.459 \n",
       "  \"/>\n",
       "<polyline clip-path=\"url(#clip730)\" style=\"stroke:#000000; stroke-width:4; stroke-opacity:1; fill:none\" points=\"\n",
       "  112.177,737.33 139.064,737.33 \n",
       "  \"/>\n",
       "<polyline clip-path=\"url(#clip730)\" style=\"stroke:#000000; stroke-width:4; stroke-opacity:1; fill:none\" points=\"\n",
       "  112.177,501.201 139.064,501.201 \n",
       "  \"/>\n",
       "<polyline clip-path=\"url(#clip730)\" style=\"stroke:#000000; stroke-width:4; stroke-opacity:1; fill:none\" points=\"\n",
       "  112.177,265.073 139.064,265.073 \n",
       "  \"/>\n",
       "<path clip-path=\"url(#clip730)\" d=\"M 0 0 M175.59 1508.44 Q171.979 1508.44 170.15 1512 Q168.344 1515.55 168.344 1522.67 Q168.344 1529.78 170.15 1533.35 Q171.979 1536.89 175.59 1536.89 Q179.224 1536.89 181.03 1533.35 Q182.858 1529.78 182.858 1522.67 Q182.858 1515.55 181.03 1512 Q179.224 1508.44 175.59 1508.44 M175.59 1504.73 Q181.4 1504.73 184.455 1509.34 Q187.534 1513.92 187.534 1522.67 Q187.534 1531.4 184.455 1536.01 Q181.4 1540.59 175.59 1540.59 Q169.78 1540.59 166.701 1536.01 Q163.645 1531.4 163.645 1522.67 Q163.645 1513.92 166.701 1509.34 Q169.78 1504.73 175.59 1504.73 Z\" fill=\"#000000\" fill-rule=\"evenodd\" fill-opacity=\"1\" /><path clip-path=\"url(#clip730)\" d=\"M 0 0 M588.722 1535.98 L596.361 1535.98 L596.361 1509.62 L588.051 1511.29 L588.051 1507.03 L596.315 1505.36 L600.991 1505.36 L600.991 1535.98 L608.63 1535.98 L608.63 1539.92 L588.722 1539.92 L588.722 1535.98 Z\" fill=\"#000000\" fill-rule=\"evenodd\" fill-opacity=\"1\" /><path clip-path=\"url(#clip730)\" d=\"M 0 0 M1015.74 1535.98 L1032.06 1535.98 L1032.06 1539.92 L1010.12 1539.92 L1010.12 1535.98 Q1012.78 1533.23 1017.36 1528.6 Q1021.97 1523.95 1023.15 1522.61 Q1025.4 1520.08 1026.28 1518.35 Q1027.18 1516.59 1027.18 1514.9 Q1027.18 1512.14 1025.23 1510.41 Q1023.31 1508.67 1020.21 1508.67 Q1018.01 1508.67 1015.56 1509.43 Q1013.13 1510.2 1010.35 1511.75 L1010.35 1507.03 Q1013.17 1505.89 1015.63 1505.31 Q1018.08 1504.73 1020.12 1504.73 Q1025.49 1504.73 1028.68 1507.42 Q1031.88 1510.11 1031.88 1514.6 Q1031.88 1516.73 1031.07 1518.65 Q1030.28 1520.54 1028.17 1523.14 Q1027.6 1523.81 1024.49 1527.03 Q1021.39 1530.22 1015.74 1535.98 Z\" fill=\"#000000\" fill-rule=\"evenodd\" fill-opacity=\"1\" /><path clip-path=\"url(#clip730)\" d=\"M 0 0 M1448.09 1521.29 Q1451.45 1522 1453.32 1524.27 Q1455.22 1526.54 1455.22 1529.87 Q1455.22 1534.99 1451.7 1537.79 Q1448.18 1540.59 1441.7 1540.59 Q1439.52 1540.59 1437.21 1540.15 Q1434.92 1539.73 1432.46 1538.88 L1432.46 1534.36 Q1434.41 1535.5 1436.72 1536.08 Q1439.04 1536.66 1441.56 1536.66 Q1445.96 1536.66 1448.25 1534.92 Q1450.57 1533.18 1450.57 1529.87 Q1450.57 1526.82 1448.41 1525.11 Q1446.28 1523.37 1442.46 1523.37 L1438.44 1523.37 L1438.44 1519.53 L1442.65 1519.53 Q1446.1 1519.53 1447.93 1518.16 Q1449.76 1516.77 1449.76 1514.18 Q1449.76 1511.52 1447.86 1510.11 Q1445.98 1508.67 1442.46 1508.67 Q1440.54 1508.67 1438.34 1509.09 Q1436.15 1509.5 1433.51 1510.38 L1433.51 1506.22 Q1436.17 1505.48 1438.48 1505.11 Q1440.82 1504.73 1442.88 1504.73 Q1448.21 1504.73 1451.31 1507.17 Q1454.41 1509.57 1454.41 1513.69 Q1454.41 1516.56 1452.77 1518.55 Q1451.12 1520.52 1448.09 1521.29 Z\" fill=\"#000000\" fill-rule=\"evenodd\" fill-opacity=\"1\" /><path clip-path=\"url(#clip730)\" d=\"M 0 0 M1869.6 1509.43 L1857.8 1527.88 L1869.6 1527.88 L1869.6 1509.43 M1868.37 1505.36 L1874.25 1505.36 L1874.25 1527.88 L1879.19 1527.88 L1879.19 1531.77 L1874.25 1531.77 L1874.25 1539.92 L1869.6 1539.92 L1869.6 1531.77 L1854 1531.77 L1854 1527.26 L1868.37 1505.36 Z\" fill=\"#000000\" fill-rule=\"evenodd\" fill-opacity=\"1\" /><path clip-path=\"url(#clip730)\" d=\"M 0 0 M2279.62 1505.36 L2297.98 1505.36 L2297.98 1509.3 L2283.9 1509.3 L2283.9 1517.77 Q2284.92 1517.42 2285.94 1517.26 Q2286.96 1517.07 2287.98 1517.07 Q2293.76 1517.07 2297.14 1520.24 Q2300.52 1523.42 2300.52 1528.83 Q2300.52 1534.41 2297.05 1537.51 Q2293.58 1540.59 2287.26 1540.59 Q2285.08 1540.59 2282.82 1540.22 Q2280.57 1539.85 2278.16 1539.11 L2278.16 1534.41 Q2280.25 1535.54 2282.47 1536.1 Q2284.69 1536.66 2287.17 1536.66 Q2291.17 1536.66 2293.51 1534.55 Q2295.85 1532.44 2295.85 1528.83 Q2295.85 1525.22 2293.51 1523.11 Q2291.17 1521.01 2287.17 1521.01 Q2285.29 1521.01 2283.42 1521.42 Q2281.57 1521.84 2279.62 1522.72 L2279.62 1505.36 Z\" fill=\"#000000\" fill-rule=\"evenodd\" fill-opacity=\"1\" /><path clip-path=\"url(#clip730)\" d=\"M 0 0 M68.2699 1459.06 L75.9087 1459.06 L75.9087 1432.69 L67.5986 1434.36 L67.5986 1430.1 L75.8624 1428.44 L80.5383 1428.44 L80.5383 1459.06 L88.1772 1459.06 L88.1772 1463 L68.2699 1463 L68.2699 1459.06 Z\" fill=\"#000000\" fill-rule=\"evenodd\" fill-opacity=\"1\" /><path clip-path=\"url(#clip730)\" d=\"M 0 0 M71.8578 1222.93 L88.1772 1222.93 L88.1772 1226.87 L66.2328 1226.87 L66.2328 1222.93 Q68.8949 1220.18 73.4782 1215.55 Q78.0846 1210.89 79.2652 1209.55 Q81.5105 1207.03 82.3902 1205.29 Q83.2929 1203.53 83.2929 1201.84 Q83.2929 1199.09 81.3485 1197.35 Q79.4272 1195.62 76.3254 1195.62 Q74.1263 1195.62 71.6726 1196.38 Q69.2421 1197.15 66.4643 1198.7 L66.4643 1193.97 Q69.2884 1192.84 71.7421 1192.26 Q74.1958 1191.68 76.2328 1191.68 Q81.6031 1191.68 84.7976 1194.37 Q87.992 1197.05 87.992 1201.54 Q87.992 1203.67 87.1818 1205.59 Q86.3948 1207.49 84.2883 1210.08 Q83.7096 1210.76 80.6078 1213.97 Q77.5059 1217.17 71.8578 1222.93 Z\" fill=\"#000000\" fill-rule=\"evenodd\" fill-opacity=\"1\" /><path clip-path=\"url(#clip730)\" d=\"M 0 0 M81.0476 972.104 Q84.404 972.822 86.279 975.09 Q88.1772 977.359 88.1772 980.692 Q88.1772 985.808 84.6587 988.609 Q81.1402 991.41 74.6587 991.41 Q72.4828 991.41 70.168 990.97 Q67.8764 990.553 65.4227 989.697 L65.4227 985.183 Q67.3671 986.317 69.6819 986.896 Q71.9967 987.475 74.5198 987.475 Q78.918 987.475 81.2096 985.739 Q83.5244 984.002 83.5244 980.692 Q83.5244 977.637 81.3717 975.924 Q79.242 974.188 75.4226 974.188 L71.3949 974.188 L71.3949 970.345 L75.6078 970.345 Q79.0569 970.345 80.8855 968.979 Q82.7142 967.59 82.7142 964.998 Q82.7142 962.336 80.8161 960.924 Q78.9411 959.489 75.4226 959.489 Q73.5013 959.489 71.3023 959.905 Q69.1032 960.322 66.4643 961.202 L66.4643 957.035 Q69.1264 956.294 71.4412 955.924 Q73.7791 955.554 75.8393 955.554 Q81.1633 955.554 84.2652 957.984 Q87.367 960.391 87.367 964.512 Q87.367 967.382 85.7235 969.373 Q84.08 971.34 81.0476 972.104 Z\" fill=\"#000000\" fill-rule=\"evenodd\" fill-opacity=\"1\" /><path clip-path=\"url(#clip730)\" d=\"M 0 0 M78.5939 724.124 L66.7884 742.573 L78.5939 742.573 L78.5939 724.124 M77.367 720.05 L83.2466 720.05 L83.2466 742.573 L88.1772 742.573 L88.1772 746.462 L83.2466 746.462 L83.2466 754.61 L78.5939 754.61 L78.5939 746.462 L62.9921 746.462 L62.9921 741.948 L77.367 720.05 Z\" fill=\"#000000\" fill-rule=\"evenodd\" fill-opacity=\"1\" /><path clip-path=\"url(#clip730)\" d=\"M 0 0 M67.2745 483.921 L85.6309 483.921 L85.6309 487.856 L71.5569 487.856 L71.5569 496.329 Q72.5754 495.981 73.5939 495.819 Q74.6124 495.634 75.6309 495.634 Q81.418 495.634 84.7976 498.805 Q88.1772 501.977 88.1772 507.393 Q88.1772 512.972 84.705 516.074 Q81.2328 519.153 74.9134 519.153 Q72.7374 519.153 70.4689 518.782 Q68.2236 518.412 65.8162 517.671 L65.8162 512.972 Q67.8995 514.106 70.1217 514.662 Q72.3439 515.217 74.8208 515.217 Q78.8254 515.217 81.1633 513.111 Q83.5013 511.005 83.5013 507.393 Q83.5013 503.782 81.1633 501.676 Q78.8254 499.569 74.8208 499.569 Q72.9458 499.569 71.0708 499.986 Q69.2189 500.403 67.2745 501.282 L67.2745 483.921 Z\" fill=\"#000000\" fill-rule=\"evenodd\" fill-opacity=\"1\" /><path clip-path=\"url(#clip730)\" d=\"M 0 0 M76.6495 263.209 Q73.5013 263.209 71.6495 265.362 Q69.8208 267.515 69.8208 271.265 Q69.8208 274.992 71.6495 277.168 Q73.5013 279.32 76.6495 279.32 Q79.7976 279.32 81.6263 277.168 Q83.4781 274.992 83.4781 271.265 Q83.4781 267.515 81.6263 265.362 Q79.7976 263.209 76.6495 263.209 M85.9318 248.557 L85.9318 252.816 Q84.1726 251.983 82.367 251.543 Q80.5846 251.103 78.8254 251.103 Q74.1958 251.103 71.7421 254.228 Q69.3115 257.353 68.9643 263.672 Q70.33 261.658 72.3902 260.594 Q74.4504 259.506 76.9272 259.506 Q82.1355 259.506 85.1448 262.677 Q88.1772 265.825 88.1772 271.265 Q88.1772 276.589 85.029 279.806 Q81.8809 283.024 76.6495 283.024 Q70.6541 283.024 67.4828 278.441 Q64.3116 273.834 64.3116 265.107 Q64.3116 256.913 68.2004 252.052 Q72.0893 247.168 78.6402 247.168 Q80.3994 247.168 82.1818 247.515 Q83.9874 247.862 85.9318 248.557 Z\" fill=\"#000000\" fill-rule=\"evenodd\" fill-opacity=\"1\" /><circle clip-path=\"url(#clip732)\" cx=\"598.34\" cy=\"1209.59\" r=\"14\" fill=\"#009af9\" fill-rule=\"evenodd\" fill-opacity=\"1\" stroke=\"#000000\" stroke-opacity=\"1\" stroke-width=\"3.2\"/>\n",
       "<circle clip-path=\"url(#clip732)\" cx=\"1021.09\" cy=\"973.459\" r=\"14\" fill=\"#009af9\" fill-rule=\"evenodd\" fill-opacity=\"1\" stroke=\"#000000\" stroke-opacity=\"1\" stroke-width=\"3.2\"/>\n",
       "<circle clip-path=\"url(#clip732)\" cx=\"1443.84\" cy=\"973.459\" r=\"14\" fill=\"#009af9\" fill-rule=\"evenodd\" fill-opacity=\"1\" stroke=\"#000000\" stroke-opacity=\"1\" stroke-width=\"3.2\"/>\n",
       "<circle clip-path=\"url(#clip732)\" cx=\"1866.59\" cy=\"501.201\" r=\"14\" fill=\"#009af9\" fill-rule=\"evenodd\" fill-opacity=\"1\" stroke=\"#000000\" stroke-opacity=\"1\" stroke-width=\"3.2\"/>\n",
       "<polyline clip-path=\"url(#clip732)\" style=\"stroke:#e26f46; stroke-width:4; stroke-opacity:1; fill:none\" points=\"\n",
       "  175.59,1445.72 217.865,1424.46 260.14,1403.21 302.415,1381.96 344.69,1360.71 386.965,1339.46 429.24,1318.21 471.515,1296.95 513.79,1275.7 556.065,1254.45 \n",
       "  598.34,1233.2 640.616,1211.95 682.891,1190.7 725.166,1169.45 767.441,1148.19 809.716,1126.94 851.991,1105.69 894.266,1084.44 936.541,1063.19 978.816,1041.94 \n",
       "  1021.09,1020.68 1063.37,999.433 1105.64,978.181 1147.92,956.93 1190.19,935.678 1232.47,914.426 1274.74,893.175 1317.02,871.923 1359.29,850.672 1401.57,829.42 \n",
       "  1443.84,808.168 1486.12,786.917 1528.39,765.665 1570.67,744.414 1612.94,723.162 1655.22,701.911 1697.49,680.659 1739.77,659.407 1782.04,638.156 1824.32,616.904 \n",
       "  1866.59,595.653 1908.87,574.401 1951.14,553.15 1993.42,531.898 2035.69,510.646 2077.97,489.395 2120.24,468.143 2162.52,446.892 2204.79,425.64 2247.07,404.389 \n",
       "  2289.34,383.137 \n",
       "  \"/>\n",
       "<polyline clip-path=\"url(#clip732)\" style=\"stroke:#3da44d; stroke-width:4; stroke-opacity:1; fill:none\" points=\"\n",
       "  175.59,1150.55 217.865,1158.23 260.14,1164.72 302.415,1170.04 344.69,1174.17 386.965,1177.12 429.24,1178.89 471.515,1179.48 513.79,1178.89 556.065,1177.12 \n",
       "  598.34,1174.17 640.616,1170.04 682.891,1164.72 725.166,1158.23 767.441,1150.55 809.716,1141.7 851.991,1131.66 894.266,1120.45 936.541,1108.05 978.816,1094.47 \n",
       "  1021.09,1079.72 1063.37,1063.78 1105.64,1046.66 1147.92,1028.36 1190.19,1008.88 1232.47,988.217 1274.74,966.375 1317.02,943.352 1359.29,919.149 1401.57,893.765 \n",
       "  1443.84,867.201 1486.12,839.456 1528.39,810.53 1570.67,780.423 1612.94,749.136 1655.22,716.669 1697.49,683.02 1739.77,648.191 1782.04,612.182 1824.32,574.992 \n",
       "  1866.59,536.621 1908.87,497.069 1951.14,456.337 1993.42,414.424 2035.69,371.331 2077.97,327.056 2120.24,281.602 2162.52,234.966 2204.79,187.15 2247.07,138.154 \n",
       "  2289.34,87.9763 \n",
       "  \"/>\n",
       "<path clip-path=\"url(#clip730)\" d=\"\n",
       "M1989.16 372.684 L2280.76 372.684 L2280.76 130.764 L1989.16 130.764  Z\n",
       "  \" fill=\"#ffffff\" fill-rule=\"evenodd\" fill-opacity=\"1\"/>\n",
       "<polyline clip-path=\"url(#clip730)\" style=\"stroke:#000000; stroke-width:4; stroke-opacity:1; fill:none\" points=\"\n",
       "  1989.16,372.684 2280.76,372.684 2280.76,130.764 1989.16,130.764 1989.16,372.684 \n",
       "  \"/>\n",
       "<circle clip-path=\"url(#clip730)\" cx=\"2097.16\" cy=\"191.244\" r=\"23\" fill=\"#009af9\" fill-rule=\"evenodd\" fill-opacity=\"1\" stroke=\"#000000\" stroke-opacity=\"1\" stroke-width=\"5.12\"/>\n",
       "<path clip-path=\"url(#clip730)\" d=\"M 0 0 M2195 210.931 Q2193.2 215.561 2191.48 216.973 Q2189.77 218.385 2186.9 218.385 L2183.5 218.385 L2183.5 214.82 L2186 214.82 Q2187.76 214.82 2188.73 213.987 Q2189.7 213.154 2190.88 210.052 L2191.65 208.107 L2181.16 182.598 L2185.67 182.598 L2193.77 202.876 L2201.88 182.598 L2206.39 182.598 L2195 210.931 Z\" fill=\"#000000\" fill-rule=\"evenodd\" fill-opacity=\"1\" /><path clip-path=\"url(#clip730)\" d=\"M 0 0 M2212.27 204.589 L2219.91 204.589 L2219.91 178.223 L2211.6 179.89 L2211.6 175.631 L2219.86 173.964 L2224.54 173.964 L2224.54 204.589 L2232.18 204.589 L2232.18 208.524 L2212.27 208.524 L2212.27 204.589 Z\" fill=\"#000000\" fill-rule=\"evenodd\" fill-opacity=\"1\" /><polyline clip-path=\"url(#clip730)\" style=\"stroke:#e26f46; stroke-width:4; stroke-opacity:1; fill:none\" points=\"\n",
       "  2013.16,251.724 2157.16,251.724 \n",
       "  \"/>\n",
       "<path clip-path=\"url(#clip730)\" d=\"M 0 0 M2195 271.411 Q2193.2 276.041 2191.48 277.453 Q2189.77 278.865 2186.9 278.865 L2183.5 278.865 L2183.5 275.3 L2186 275.3 Q2187.76 275.3 2188.73 274.467 Q2189.7 273.634 2190.88 270.532 L2191.65 268.587 L2181.16 243.078 L2185.67 243.078 L2193.77 263.356 L2201.88 243.078 L2206.39 243.078 L2195 271.411 Z\" fill=\"#000000\" fill-rule=\"evenodd\" fill-opacity=\"1\" /><path clip-path=\"url(#clip730)\" d=\"M 0 0 M2215.49 265.069 L2231.81 265.069 L2231.81 269.004 L2209.86 269.004 L2209.86 265.069 Q2212.52 262.314 2217.11 257.685 Q2221.71 253.032 2222.89 251.689 Q2225.14 249.166 2226.02 247.43 Q2226.92 245.671 2226.92 243.981 Q2226.92 241.226 2224.98 239.49 Q2223.06 237.754 2219.96 237.754 Q2217.76 237.754 2215.3 238.518 Q2212.87 239.282 2210.09 240.833 L2210.09 236.111 Q2212.92 234.976 2215.37 234.398 Q2217.83 233.819 2219.86 233.819 Q2225.23 233.819 2228.43 236.504 Q2231.62 239.189 2231.62 243.68 Q2231.62 245.81 2230.81 247.731 Q2230.02 249.629 2227.92 252.222 Q2227.34 252.893 2224.24 256.111 Q2221.14 259.305 2215.49 265.069 Z\" fill=\"#000000\" fill-rule=\"evenodd\" fill-opacity=\"1\" /><polyline clip-path=\"url(#clip730)\" style=\"stroke:#3da44d; stroke-width:4; stroke-opacity:1; fill:none\" points=\"\n",
       "  2013.16,312.204 2157.16,312.204 \n",
       "  \"/>\n",
       "<path clip-path=\"url(#clip730)\" d=\"M 0 0 M2195 331.891 Q2193.2 336.521 2191.48 337.933 Q2189.77 339.345 2186.9 339.345 L2183.5 339.345 L2183.5 335.78 L2186 335.78 Q2187.76 335.78 2188.73 334.947 Q2189.7 334.114 2190.88 331.012 L2191.65 329.067 L2181.16 303.558 L2185.67 303.558 L2193.77 323.836 L2201.88 303.558 L2206.39 303.558 L2195 331.891 Z\" fill=\"#000000\" fill-rule=\"evenodd\" fill-opacity=\"1\" /><path clip-path=\"url(#clip730)\" d=\"M 0 0 M2225.63 310.85 Q2228.98 311.568 2230.86 313.836 Q2232.76 316.105 2232.76 319.438 Q2232.76 324.554 2229.24 327.354 Q2225.72 330.155 2219.24 330.155 Q2217.06 330.155 2214.75 329.716 Q2212.46 329.299 2210 328.442 L2210 323.929 Q2211.95 325.063 2214.26 325.642 Q2216.58 326.22 2219.1 326.22 Q2223.5 326.22 2225.79 324.484 Q2228.1 322.748 2228.1 319.438 Q2228.1 316.382 2225.95 314.669 Q2223.82 312.933 2220 312.933 L2215.97 312.933 L2215.97 309.091 L2220.19 309.091 Q2223.64 309.091 2225.46 307.725 Q2227.29 306.336 2227.29 303.743 Q2227.29 301.081 2225.39 299.669 Q2223.52 298.234 2220 298.234 Q2218.08 298.234 2215.88 298.651 Q2213.68 299.068 2211.04 299.947 L2211.04 295.781 Q2213.71 295.04 2216.02 294.669 Q2218.36 294.299 2220.42 294.299 Q2225.74 294.299 2228.84 296.73 Q2231.95 299.137 2231.95 303.257 Q2231.95 306.128 2230.3 308.118 Q2228.66 310.086 2225.63 310.85 Z\" fill=\"#000000\" fill-rule=\"evenodd\" fill-opacity=\"1\" /></svg>\n"
      ]
     },
     "execution_count": 20,
     "metadata": {},
     "output_type": "execute_result"
    }
   ],
   "source": [
    "C3=x_hat3[1];D3=x_hat3[2];E3=x_hat3[3]\n",
    "plot(t,b,seriestype=:scatter)\n",
    "plot!(x,x->C2+D2*x)\n",
    "plot!(x,x->C3+D3*x+E3*x^2)"
   ]
  },
  {
   "cell_type": "markdown",
   "metadata": {},
   "source": [
    "Fit with cubic function (interpolation)"
   ]
  },
  {
   "cell_type": "code",
   "execution_count": 25,
   "metadata": {},
   "outputs": [
    {
     "data": {
      "text/plain": [
       "4×4 Array{Int64,2}:\n",
       " 1  1   1   1\n",
       " 1  2   4   8\n",
       " 1  3   9  27\n",
       " 1  4  16  64"
      ]
     },
     "execution_count": 25,
     "metadata": {},
     "output_type": "execute_result"
    }
   ],
   "source": [
    "A4=[A3 [1;8;27;64]]"
   ]
  },
  {
   "cell_type": "code",
   "execution_count": 27,
   "metadata": {},
   "outputs": [
    {
     "data": {
      "text/plain": [
       "4×1 Array{Float64,2}:\n",
       " -2.999999999994998\n",
       "  7.999999999992838\n",
       " -3.4999999999961897\n",
       "  0.49999999999961076"
      ]
     },
     "execution_count": 27,
     "metadata": {},
     "output_type": "execute_result"
    }
   ],
   "source": [
    "x_hat4 = inv(A4'*A4)*A4'*b"
   ]
  },
  {
   "cell_type": "code",
   "execution_count": 29,
   "metadata": {},
   "outputs": [
    {
     "data": {
      "text/plain": [
       "1×1 Array{Float64,2}:\n",
       " 1.471797787404418e-11"
      ]
     },
     "execution_count": 29,
     "metadata": {},
     "output_type": "execute_result"
    }
   ],
   "source": [
    "p4=A4*x_hat4;\n",
    "e4=b-p4;\n",
    "Error4 = sqrt(e4'*e4)"
   ]
  },
  {
   "cell_type": "code",
   "execution_count": 30,
   "metadata": {},
   "outputs": [
    {
     "data": {
      "image/svg+xml": [
       "<?xml version=\"1.0\" encoding=\"utf-8\"?>\n",
       "<svg xmlns=\"http://www.w3.org/2000/svg\" xmlns:xlink=\"http://www.w3.org/1999/xlink\" width=\"600\" height=\"400\" viewBox=\"0 0 2400 1600\">\n",
       "<defs>\n",
       "  <clipPath id=\"clip770\">\n",
       "    <rect x=\"0\" y=\"0\" width=\"2400\" height=\"1600\"/>\n",
       "  </clipPath>\n",
       "</defs>\n",
       "<path clip-path=\"url(#clip770)\" d=\"\n",
       "M0 1600 L2400 1600 L2400 0 L0 0  Z\n",
       "  \" fill=\"#ffffff\" fill-rule=\"evenodd\" fill-opacity=\"1\"/>\n",
       "<defs>\n",
       "  <clipPath id=\"clip771\">\n",
       "    <rect x=\"480\" y=\"0\" width=\"1681\" height=\"1600\"/>\n",
       "  </clipPath>\n",
       "</defs>\n",
       "<path clip-path=\"url(#clip770)\" d=\"\n",
       "M171.552 1486.45 L2352.76 1486.45 L2352.76 47.2441 L171.552 47.2441  Z\n",
       "  \" fill=\"#ffffff\" fill-rule=\"evenodd\" fill-opacity=\"1\"/>\n",
       "<defs>\n",
       "  <clipPath id=\"clip772\">\n",
       "    <rect x=\"171\" y=\"47\" width=\"2182\" height=\"1440\"/>\n",
       "  </clipPath>\n",
       "</defs>\n",
       "<polyline clip-path=\"url(#clip772)\" style=\"stroke:#000000; stroke-width:2; stroke-opacity:0.1; fill:none\" points=\"\n",
       "  233.284,1486.45 233.284,47.2441 \n",
       "  \"/>\n",
       "<polyline clip-path=\"url(#clip772)\" style=\"stroke:#000000; stroke-width:2; stroke-opacity:0.1; fill:none\" points=\"\n",
       "  644.832,1486.45 644.832,47.2441 \n",
       "  \"/>\n",
       "<polyline clip-path=\"url(#clip772)\" style=\"stroke:#000000; stroke-width:2; stroke-opacity:0.1; fill:none\" points=\"\n",
       "  1056.38,1486.45 1056.38,47.2441 \n",
       "  \"/>\n",
       "<polyline clip-path=\"url(#clip772)\" style=\"stroke:#000000; stroke-width:2; stroke-opacity:0.1; fill:none\" points=\"\n",
       "  1467.93,1486.45 1467.93,47.2441 \n",
       "  \"/>\n",
       "<polyline clip-path=\"url(#clip772)\" style=\"stroke:#000000; stroke-width:2; stroke-opacity:0.1; fill:none\" points=\"\n",
       "  1879.48,1486.45 1879.48,47.2441 \n",
       "  \"/>\n",
       "<polyline clip-path=\"url(#clip772)\" style=\"stroke:#000000; stroke-width:2; stroke-opacity:0.1; fill:none\" points=\"\n",
       "  2291.02,1486.45 2291.02,47.2441 \n",
       "  \"/>\n",
       "<polyline clip-path=\"url(#clip772)\" style=\"stroke:#000000; stroke-width:2; stroke-opacity:0.1; fill:none\" points=\"\n",
       "  171.552,1400.46 2352.76,1400.46 \n",
       "  \"/>\n",
       "<polyline clip-path=\"url(#clip772)\" style=\"stroke:#000000; stroke-width:2; stroke-opacity:0.1; fill:none\" points=\"\n",
       "  171.552,1174.17 2352.76,1174.17 \n",
       "  \"/>\n",
       "<polyline clip-path=\"url(#clip772)\" style=\"stroke:#000000; stroke-width:2; stroke-opacity:0.1; fill:none\" points=\"\n",
       "  171.552,947.878 2352.76,947.878 \n",
       "  \"/>\n",
       "<polyline clip-path=\"url(#clip772)\" style=\"stroke:#000000; stroke-width:2; stroke-opacity:0.1; fill:none\" points=\"\n",
       "  171.552,721.588 2352.76,721.588 \n",
       "  \"/>\n",
       "<polyline clip-path=\"url(#clip772)\" style=\"stroke:#000000; stroke-width:2; stroke-opacity:0.1; fill:none\" points=\"\n",
       "  171.552,495.298 2352.76,495.298 \n",
       "  \"/>\n",
       "<polyline clip-path=\"url(#clip772)\" style=\"stroke:#000000; stroke-width:2; stroke-opacity:0.1; fill:none\" points=\"\n",
       "  171.552,269.008 2352.76,269.008 \n",
       "  \"/>\n",
       "<polyline clip-path=\"url(#clip770)\" style=\"stroke:#000000; stroke-width:4; stroke-opacity:1; fill:none\" points=\"\n",
       "  171.552,1486.45 2352.76,1486.45 \n",
       "  \"/>\n",
       "<polyline clip-path=\"url(#clip770)\" style=\"stroke:#000000; stroke-width:4; stroke-opacity:1; fill:none\" points=\"\n",
       "  171.552,1486.45 171.552,47.2441 \n",
       "  \"/>\n",
       "<polyline clip-path=\"url(#clip770)\" style=\"stroke:#000000; stroke-width:4; stroke-opacity:1; fill:none\" points=\"\n",
       "  233.284,1486.45 233.284,1469.18 \n",
       "  \"/>\n",
       "<polyline clip-path=\"url(#clip770)\" style=\"stroke:#000000; stroke-width:4; stroke-opacity:1; fill:none\" points=\"\n",
       "  644.832,1486.45 644.832,1469.18 \n",
       "  \"/>\n",
       "<polyline clip-path=\"url(#clip770)\" style=\"stroke:#000000; stroke-width:4; stroke-opacity:1; fill:none\" points=\"\n",
       "  1056.38,1486.45 1056.38,1469.18 \n",
       "  \"/>\n",
       "<polyline clip-path=\"url(#clip770)\" style=\"stroke:#000000; stroke-width:4; stroke-opacity:1; fill:none\" points=\"\n",
       "  1467.93,1486.45 1467.93,1469.18 \n",
       "  \"/>\n",
       "<polyline clip-path=\"url(#clip770)\" style=\"stroke:#000000; stroke-width:4; stroke-opacity:1; fill:none\" points=\"\n",
       "  1879.48,1486.45 1879.48,1469.18 \n",
       "  \"/>\n",
       "<polyline clip-path=\"url(#clip770)\" style=\"stroke:#000000; stroke-width:4; stroke-opacity:1; fill:none\" points=\"\n",
       "  2291.02,1486.45 2291.02,1469.18 \n",
       "  \"/>\n",
       "<polyline clip-path=\"url(#clip770)\" style=\"stroke:#000000; stroke-width:4; stroke-opacity:1; fill:none\" points=\"\n",
       "  171.552,1400.46 197.726,1400.46 \n",
       "  \"/>\n",
       "<polyline clip-path=\"url(#clip770)\" style=\"stroke:#000000; stroke-width:4; stroke-opacity:1; fill:none\" points=\"\n",
       "  171.552,1174.17 197.726,1174.17 \n",
       "  \"/>\n",
       "<polyline clip-path=\"url(#clip770)\" style=\"stroke:#000000; stroke-width:4; stroke-opacity:1; fill:none\" points=\"\n",
       "  171.552,947.878 197.726,947.878 \n",
       "  \"/>\n",
       "<polyline clip-path=\"url(#clip770)\" style=\"stroke:#000000; stroke-width:4; stroke-opacity:1; fill:none\" points=\"\n",
       "  171.552,721.588 197.726,721.588 \n",
       "  \"/>\n",
       "<polyline clip-path=\"url(#clip770)\" style=\"stroke:#000000; stroke-width:4; stroke-opacity:1; fill:none\" points=\"\n",
       "  171.552,495.298 197.726,495.298 \n",
       "  \"/>\n",
       "<polyline clip-path=\"url(#clip770)\" style=\"stroke:#000000; stroke-width:4; stroke-opacity:1; fill:none\" points=\"\n",
       "  171.552,269.008 197.726,269.008 \n",
       "  \"/>\n",
       "<path clip-path=\"url(#clip770)\" d=\"M 0 0 M233.284 1508.44 Q229.673 1508.44 227.844 1512 Q226.039 1515.55 226.039 1522.67 Q226.039 1529.78 227.844 1533.35 Q229.673 1536.89 233.284 1536.89 Q236.918 1536.89 238.724 1533.35 Q240.553 1529.78 240.553 1522.67 Q240.553 1515.55 238.724 1512 Q236.918 1508.44 233.284 1508.44 M233.284 1504.73 Q239.094 1504.73 242.15 1509.34 Q245.228 1513.92 245.228 1522.67 Q245.228 1531.4 242.15 1536.01 Q239.094 1540.59 233.284 1540.59 Q227.474 1540.59 224.395 1536.01 Q221.34 1531.4 221.34 1522.67 Q221.34 1513.92 224.395 1509.34 Q227.474 1504.73 233.284 1504.73 Z\" fill=\"#000000\" fill-rule=\"evenodd\" fill-opacity=\"1\" /><path clip-path=\"url(#clip770)\" d=\"M 0 0 M635.214 1535.98 L642.853 1535.98 L642.853 1509.62 L634.543 1511.29 L634.543 1507.03 L642.807 1505.36 L647.482 1505.36 L647.482 1535.98 L655.121 1535.98 L655.121 1539.92 L635.214 1539.92 L635.214 1535.98 Z\" fill=\"#000000\" fill-rule=\"evenodd\" fill-opacity=\"1\" /><path clip-path=\"url(#clip770)\" d=\"M 0 0 M1051.03 1535.98 L1067.35 1535.98 L1067.35 1539.92 L1045.41 1539.92 L1045.41 1535.98 Q1048.07 1533.23 1052.65 1528.6 Q1057.26 1523.95 1058.44 1522.61 Q1060.69 1520.08 1061.57 1518.35 Q1062.47 1516.59 1062.47 1514.9 Q1062.47 1512.14 1060.52 1510.41 Q1058.6 1508.67 1055.5 1508.67 Q1053.3 1508.67 1050.85 1509.43 Q1048.42 1510.2 1045.64 1511.75 L1045.64 1507.03 Q1048.46 1505.89 1050.92 1505.31 Q1053.37 1504.73 1055.41 1504.73 Q1060.78 1504.73 1063.97 1507.42 Q1067.17 1510.11 1067.17 1514.6 Q1067.17 1516.73 1066.36 1518.65 Q1065.57 1520.54 1063.46 1523.14 Q1062.88 1523.81 1059.78 1527.03 Q1056.68 1530.22 1051.03 1535.98 Z\" fill=\"#000000\" fill-rule=\"evenodd\" fill-opacity=\"1\" /><path clip-path=\"url(#clip770)\" d=\"M 0 0 M1472.18 1521.29 Q1475.53 1522 1477.41 1524.27 Q1479.31 1526.54 1479.31 1529.87 Q1479.31 1534.99 1475.79 1537.79 Q1472.27 1540.59 1465.79 1540.59 Q1463.61 1540.59 1461.3 1540.15 Q1459 1539.73 1456.55 1538.88 L1456.55 1534.36 Q1458.5 1535.5 1460.81 1536.08 Q1463.12 1536.66 1465.65 1536.66 Q1470.05 1536.66 1472.34 1534.92 Q1474.65 1533.18 1474.65 1529.87 Q1474.65 1526.82 1472.5 1525.11 Q1470.37 1523.37 1466.55 1523.37 L1462.52 1523.37 L1462.52 1519.53 L1466.74 1519.53 Q1470.18 1519.53 1472.01 1518.16 Q1473.84 1516.77 1473.84 1514.18 Q1473.84 1511.52 1471.94 1510.11 Q1470.07 1508.67 1466.55 1508.67 Q1464.63 1508.67 1462.43 1509.09 Q1460.23 1509.5 1457.59 1510.38 L1457.59 1506.22 Q1460.25 1505.48 1462.57 1505.11 Q1464.91 1504.73 1466.97 1504.73 Q1472.29 1504.73 1475.39 1507.17 Q1478.49 1509.57 1478.49 1513.69 Q1478.49 1516.56 1476.85 1518.55 Q1475.21 1520.52 1472.18 1521.29 Z\" fill=\"#000000\" fill-rule=\"evenodd\" fill-opacity=\"1\" /><path clip-path=\"url(#clip770)\" d=\"M 0 0 M1882.49 1509.43 L1870.68 1527.88 L1882.49 1527.88 L1882.49 1509.43 M1881.26 1505.36 L1887.14 1505.36 L1887.14 1527.88 L1892.07 1527.88 L1892.07 1531.77 L1887.14 1531.77 L1887.14 1539.92 L1882.49 1539.92 L1882.49 1531.77 L1866.88 1531.77 L1866.88 1527.26 L1881.26 1505.36 Z\" fill=\"#000000\" fill-rule=\"evenodd\" fill-opacity=\"1\" /><path clip-path=\"url(#clip770)\" d=\"M 0 0 M2281.3 1505.36 L2299.66 1505.36 L2299.66 1509.3 L2285.58 1509.3 L2285.58 1517.77 Q2286.6 1517.42 2287.62 1517.26 Q2288.64 1517.07 2289.66 1517.07 Q2295.44 1517.07 2298.82 1520.24 Q2302.2 1523.42 2302.2 1528.83 Q2302.2 1534.41 2298.73 1537.51 Q2295.26 1540.59 2288.94 1540.59 Q2286.76 1540.59 2284.5 1540.22 Q2282.25 1539.85 2279.84 1539.11 L2279.84 1534.41 Q2281.93 1535.54 2284.15 1536.1 Q2286.37 1536.66 2288.85 1536.66 Q2292.85 1536.66 2295.19 1534.55 Q2297.53 1532.44 2297.53 1528.83 Q2297.53 1525.22 2295.19 1523.11 Q2292.85 1521.01 2288.85 1521.01 Q2286.97 1521.01 2285.1 1521.42 Q2283.25 1521.84 2281.3 1522.72 L2281.3 1505.36 Z\" fill=\"#000000\" fill-rule=\"evenodd\" fill-opacity=\"1\" /><path clip-path=\"url(#clip770)\" d=\"M 0 0 M73.6865 1402.85 L86.1633 1402.85 L86.1633 1406.65 L73.6865 1406.65 L73.6865 1402.85 Z\" fill=\"#000000\" fill-rule=\"evenodd\" fill-opacity=\"1\" /><path clip-path=\"url(#clip770)\" d=\"M 0 0 M95.2605 1413.8 L111.58 1413.8 L111.58 1417.74 L89.6355 1417.74 L89.6355 1413.8 Q92.2975 1411.05 96.8808 1406.42 Q101.487 1401.77 102.668 1400.42 Q104.913 1397.9 105.793 1396.16 Q106.696 1394.4 106.696 1392.71 Q106.696 1389.96 104.751 1388.22 Q102.83 1386.49 99.728 1386.49 Q97.529 1386.49 95.0753 1387.25 Q92.6447 1388.02 89.867 1389.57 L89.867 1384.84 Q92.691 1383.71 95.1447 1383.13 Q97.5984 1382.55 99.6354 1382.55 Q105.006 1382.55 108.2 1385.24 Q111.395 1387.92 111.395 1392.41 Q111.395 1394.54 110.584 1396.46 Q109.797 1398.36 107.691 1400.96 Q107.112 1401.63 104.01 1404.84 Q100.909 1408.04 95.2605 1413.8 Z\" fill=\"#000000\" fill-rule=\"evenodd\" fill-opacity=\"1\" /><path clip-path=\"url(#clip770)\" d=\"M 0 0 M116.649 1411.86 L121.533 1411.86 L121.533 1417.74 L116.649 1417.74 L116.649 1411.86 Z\" fill=\"#000000\" fill-rule=\"evenodd\" fill-opacity=\"1\" /><path clip-path=\"url(#clip770)\" d=\"M 0 0 M126.649 1383.18 L145.006 1383.18 L145.006 1387.11 L130.932 1387.11 L130.932 1395.59 Q131.95 1395.24 132.969 1395.08 Q133.987 1394.89 135.006 1394.89 Q140.793 1394.89 144.172 1398.06 Q147.552 1401.23 147.552 1406.65 Q147.552 1412.23 144.08 1415.33 Q140.607 1418.41 134.288 1418.41 Q132.112 1418.41 129.844 1418.04 Q127.598 1417.67 125.191 1416.93 L125.191 1412.23 Q127.274 1413.36 129.496 1413.92 Q131.719 1414.47 134.195 1414.47 Q138.2 1414.47 140.538 1412.37 Q142.876 1410.26 142.876 1406.65 Q142.876 1403.04 140.538 1400.93 Q138.2 1398.83 134.195 1398.83 Q132.32 1398.83 130.445 1399.24 Q128.594 1399.66 126.649 1400.54 L126.649 1383.18 Z\" fill=\"#000000\" fill-rule=\"evenodd\" fill-opacity=\"1\" /><path clip-path=\"url(#clip770)\" d=\"M 0 0 M98.6401 1159.97 Q95.029 1159.97 93.2003 1163.53 Q91.3948 1167.07 91.3948 1174.2 Q91.3948 1181.31 93.2003 1184.87 Q95.029 1188.42 98.6401 1188.42 Q102.274 1188.42 104.08 1184.87 Q105.909 1181.31 105.909 1174.2 Q105.909 1167.07 104.08 1163.53 Q102.274 1159.97 98.6401 1159.97 M98.6401 1156.26 Q104.45 1156.26 107.506 1160.87 Q110.584 1165.45 110.584 1174.2 Q110.584 1182.93 107.506 1187.54 Q104.45 1192.12 98.6401 1192.12 Q92.8299 1192.12 89.7512 1187.54 Q86.6957 1182.93 86.6957 1174.2 Q86.6957 1165.45 89.7512 1160.87 Q92.8299 1156.26 98.6401 1156.26 Z\" fill=\"#000000\" fill-rule=\"evenodd\" fill-opacity=\"1\" /><path clip-path=\"url(#clip770)\" d=\"M 0 0 M115.654 1185.57 L120.538 1185.57 L120.538 1191.45 L115.654 1191.45 L115.654 1185.57 Z\" fill=\"#000000\" fill-rule=\"evenodd\" fill-opacity=\"1\" /><path clip-path=\"url(#clip770)\" d=\"M 0 0 M135.607 1159.97 Q131.996 1159.97 130.168 1163.53 Q128.362 1167.07 128.362 1174.2 Q128.362 1181.31 130.168 1184.87 Q131.996 1188.42 135.607 1188.42 Q139.242 1188.42 141.047 1184.87 Q142.876 1181.31 142.876 1174.2 Q142.876 1167.07 141.047 1163.53 Q139.242 1159.97 135.607 1159.97 M135.607 1156.26 Q141.418 1156.26 144.473 1160.87 Q147.552 1165.45 147.552 1174.2 Q147.552 1182.93 144.473 1187.54 Q141.418 1192.12 135.607 1192.12 Q129.797 1192.12 126.719 1187.54 Q123.663 1182.93 123.663 1174.2 Q123.663 1165.45 126.719 1160.87 Q129.797 1156.26 135.607 1156.26 Z\" fill=\"#000000\" fill-rule=\"evenodd\" fill-opacity=\"1\" /><path clip-path=\"url(#clip770)\" d=\"M 0 0 M95.2605 961.223 L111.58 961.223 L111.58 965.158 L89.6355 965.158 L89.6355 961.223 Q92.2975 958.468 96.8808 953.839 Q101.487 949.186 102.668 947.843 Q104.913 945.32 105.793 943.584 Q106.696 941.825 106.696 940.135 Q106.696 937.38 104.751 935.644 Q102.83 933.908 99.728 933.908 Q97.529 933.908 95.0753 934.672 Q92.6447 935.436 89.867 936.987 L89.867 932.265 Q92.691 931.13 95.1447 930.552 Q97.5984 929.973 99.6354 929.973 Q105.006 929.973 108.2 932.658 Q111.395 935.343 111.395 939.834 Q111.395 941.964 110.584 943.885 Q109.797 945.783 107.691 948.376 Q107.112 949.047 104.01 952.264 Q100.909 955.459 95.2605 961.223 Z\" fill=\"#000000\" fill-rule=\"evenodd\" fill-opacity=\"1\" /><path clip-path=\"url(#clip770)\" d=\"M 0 0 M116.649 959.278 L121.533 959.278 L121.533 965.158 L116.649 965.158 L116.649 959.278 Z\" fill=\"#000000\" fill-rule=\"evenodd\" fill-opacity=\"1\" /><path clip-path=\"url(#clip770)\" d=\"M 0 0 M126.649 930.598 L145.006 930.598 L145.006 934.533 L130.932 934.533 L130.932 943.005 Q131.95 942.658 132.969 942.496 Q133.987 942.311 135.006 942.311 Q140.793 942.311 144.172 945.482 Q147.552 948.653 147.552 954.07 Q147.552 959.649 144.08 962.751 Q140.607 965.829 134.288 965.829 Q132.112 965.829 129.844 965.459 Q127.598 965.088 125.191 964.348 L125.191 959.649 Q127.274 960.783 129.496 961.338 Q131.719 961.894 134.195 961.894 Q138.2 961.894 140.538 959.788 Q142.876 957.681 142.876 954.07 Q142.876 950.459 140.538 948.352 Q138.2 946.246 134.195 946.246 Q132.32 946.246 130.445 946.663 Q128.594 947.079 126.649 947.959 L126.649 930.598 Z\" fill=\"#000000\" fill-rule=\"evenodd\" fill-opacity=\"1\" /><path clip-path=\"url(#clip770)\" d=\"M 0 0 M89.6818 704.308 L108.038 704.308 L108.038 708.243 L93.9642 708.243 L93.9642 716.715 Q94.9827 716.368 96.0012 716.206 Q97.0197 716.021 98.0382 716.021 Q103.825 716.021 107.205 719.192 Q110.584 722.363 110.584 727.78 Q110.584 733.359 107.112 736.461 Q103.64 739.539 97.3206 739.539 Q95.1447 739.539 92.8762 739.169 Q90.6309 738.799 88.2235 738.058 L88.2235 733.359 Q90.3068 734.493 92.529 735.049 Q94.7512 735.604 97.2281 735.604 Q101.233 735.604 103.571 733.498 Q105.909 731.391 105.909 727.78 Q105.909 724.169 103.571 722.063 Q101.233 719.956 97.2281 719.956 Q95.3531 719.956 93.4781 720.373 Q91.6262 720.789 89.6818 721.669 L89.6818 704.308 Z\" fill=\"#000000\" fill-rule=\"evenodd\" fill-opacity=\"1\" /><path clip-path=\"url(#clip770)\" d=\"M 0 0 M115.654 732.988 L120.538 732.988 L120.538 738.868 L115.654 738.868 L115.654 732.988 Z\" fill=\"#000000\" fill-rule=\"evenodd\" fill-opacity=\"1\" /><path clip-path=\"url(#clip770)\" d=\"M 0 0 M135.607 707.387 Q131.996 707.387 130.168 710.951 Q128.362 714.493 128.362 721.623 Q128.362 728.729 130.168 732.294 Q131.996 735.836 135.607 735.836 Q139.242 735.836 141.047 732.294 Q142.876 728.729 142.876 721.623 Q142.876 714.493 141.047 710.951 Q139.242 707.387 135.607 707.387 M135.607 703.683 Q141.418 703.683 144.473 708.289 Q147.552 712.873 147.552 721.623 Q147.552 730.35 144.473 734.956 Q141.418 739.539 135.607 739.539 Q129.797 739.539 126.719 734.956 Q123.663 730.35 123.663 721.623 Q123.663 712.873 126.719 708.289 Q129.797 703.683 135.607 703.683 Z\" fill=\"#000000\" fill-rule=\"evenodd\" fill-opacity=\"1\" /><path clip-path=\"url(#clip770)\" d=\"M 0 0 M89.3577 478.018 L111.58 478.018 L111.58 480.009 L99.0336 512.578 L94.1494 512.578 L105.955 481.953 L89.3577 481.953 L89.3577 478.018 Z\" fill=\"#000000\" fill-rule=\"evenodd\" fill-opacity=\"1\" /><path clip-path=\"url(#clip770)\" d=\"M 0 0 M116.649 506.699 L121.533 506.699 L121.533 512.578 L116.649 512.578 L116.649 506.699 Z\" fill=\"#000000\" fill-rule=\"evenodd\" fill-opacity=\"1\" /><path clip-path=\"url(#clip770)\" d=\"M 0 0 M126.649 478.018 L145.006 478.018 L145.006 481.953 L130.932 481.953 L130.932 490.425 Q131.95 490.078 132.969 489.916 Q133.987 489.731 135.006 489.731 Q140.793 489.731 144.172 492.902 Q147.552 496.074 147.552 501.49 Q147.552 507.069 144.08 510.171 Q140.607 513.249 134.288 513.249 Q132.112 513.249 129.844 512.879 Q127.598 512.509 125.191 511.768 L125.191 507.069 Q127.274 508.203 129.496 508.759 Q131.719 509.314 134.195 509.314 Q138.2 509.314 140.538 507.208 Q142.876 505.101 142.876 501.49 Q142.876 497.879 140.538 495.773 Q138.2 493.666 134.195 493.666 Q132.32 493.666 130.445 494.083 Q128.594 494.499 126.649 495.379 L126.649 478.018 Z\" fill=\"#000000\" fill-rule=\"evenodd\" fill-opacity=\"1\" /><path clip-path=\"url(#clip770)\" d=\"M 0 0 M63.6634 282.353 L71.3023 282.353 L71.3023 255.987 L62.9921 257.654 L62.9921 253.395 L71.256 251.728 L75.9319 251.728 L75.9319 282.353 L83.5707 282.353 L83.5707 286.288 L63.6634 286.288 L63.6634 282.353 Z\" fill=\"#000000\" fill-rule=\"evenodd\" fill-opacity=\"1\" /><path clip-path=\"url(#clip770)\" d=\"M 0 0 M98.6401 254.807 Q95.029 254.807 93.2003 258.372 Q91.3948 261.913 91.3948 269.043 Q91.3948 276.149 93.2003 279.714 Q95.029 283.256 98.6401 283.256 Q102.274 283.256 104.08 279.714 Q105.909 276.149 105.909 269.043 Q105.909 261.913 104.08 258.372 Q102.274 254.807 98.6401 254.807 M98.6401 251.103 Q104.45 251.103 107.506 255.71 Q110.584 260.293 110.584 269.043 Q110.584 277.77 107.506 282.376 Q104.45 286.959 98.6401 286.959 Q92.8299 286.959 89.7512 282.376 Q86.6957 277.77 86.6957 269.043 Q86.6957 260.293 89.7512 255.71 Q92.8299 251.103 98.6401 251.103 Z\" fill=\"#000000\" fill-rule=\"evenodd\" fill-opacity=\"1\" /><path clip-path=\"url(#clip770)\" d=\"M 0 0 M115.654 280.409 L120.538 280.409 L120.538 286.288 L115.654 286.288 L115.654 280.409 Z\" fill=\"#000000\" fill-rule=\"evenodd\" fill-opacity=\"1\" /><path clip-path=\"url(#clip770)\" d=\"M 0 0 M135.607 254.807 Q131.996 254.807 130.168 258.372 Q128.362 261.913 128.362 269.043 Q128.362 276.149 130.168 279.714 Q131.996 283.256 135.607 283.256 Q139.242 283.256 141.047 279.714 Q142.876 276.149 142.876 269.043 Q142.876 261.913 141.047 258.372 Q139.242 254.807 135.607 254.807 M135.607 251.103 Q141.418 251.103 144.473 255.71 Q147.552 260.293 147.552 269.043 Q147.552 277.77 144.473 282.376 Q141.418 286.959 135.607 286.959 Q129.797 286.959 126.719 282.376 Q123.663 277.77 123.663 269.043 Q123.663 260.293 126.719 255.71 Q129.797 251.103 135.607 251.103 Z\" fill=\"#000000\" fill-rule=\"evenodd\" fill-opacity=\"1\" /><circle clip-path=\"url(#clip772)\" cx=\"644.832\" cy=\"993.136\" r=\"14\" fill=\"#009af9\" fill-rule=\"evenodd\" fill-opacity=\"1\" stroke=\"#000000\" stroke-opacity=\"1\" stroke-width=\"3.2\"/>\n",
       "<circle clip-path=\"url(#clip772)\" cx=\"1056.38\" cy=\"902.62\" r=\"14\" fill=\"#009af9\" fill-rule=\"evenodd\" fill-opacity=\"1\" stroke=\"#000000\" stroke-opacity=\"1\" stroke-width=\"3.2\"/>\n",
       "<circle clip-path=\"url(#clip772)\" cx=\"1467.93\" cy=\"902.62\" r=\"14\" fill=\"#009af9\" fill-rule=\"evenodd\" fill-opacity=\"1\" stroke=\"#000000\" stroke-opacity=\"1\" stroke-width=\"3.2\"/>\n",
       "<circle clip-path=\"url(#clip772)\" cx=\"1879.48\" cy=\"721.588\" r=\"14\" fill=\"#009af9\" fill-rule=\"evenodd\" fill-opacity=\"1\" stroke=\"#000000\" stroke-opacity=\"1\" stroke-width=\"3.2\"/>\n",
       "<polyline clip-path=\"url(#clip772)\" style=\"stroke:#e26f46; stroke-width:4; stroke-opacity:1; fill:none\" points=\"\n",
       "  233.284,1083.65 274.439,1075.51 315.594,1067.36 356.748,1059.21 397.903,1051.07 439.058,1042.92 480.213,1034.77 521.368,1026.63 562.522,1018.48 603.677,1010.33 \n",
       "  644.832,1002.19 685.987,994.041 727.142,985.895 768.296,977.748 809.451,969.602 850.606,961.455 891.761,953.309 932.916,945.162 974.07,937.016 1015.23,928.87 \n",
       "  1056.38,920.723 1097.53,912.577 1138.69,904.43 1179.84,896.284 1221,888.137 1262.15,879.991 1303.31,871.844 1344.46,863.698 1385.62,855.552 1426.77,847.405 \n",
       "  1467.93,839.259 1509.08,831.112 1550.24,822.966 1591.39,814.819 1632.55,806.673 1673.7,798.527 1714.86,790.38 1756.01,782.234 1797.17,774.087 1838.32,765.941 \n",
       "  1879.48,757.794 1920.63,749.648 1961.79,741.502 2002.94,733.355 2044.09,725.209 2085.25,717.062 2126.4,708.916 2167.56,700.769 2208.71,692.623 2249.87,684.476 \n",
       "  2291.02,676.33 \n",
       "  \"/>\n",
       "<polyline clip-path=\"url(#clip772)\" style=\"stroke:#3da44d; stroke-width:4; stroke-opacity:1; fill:none\" points=\"\n",
       "  233.284,970.507 274.439,973.449 315.594,975.938 356.748,977.974 397.903,979.558 439.058,980.69 480.213,981.369 521.368,981.595 562.522,981.369 603.677,980.69 \n",
       "  644.832,979.558 685.987,977.974 727.142,975.938 768.296,973.449 809.451,970.507 850.606,967.113 891.761,963.266 932.916,958.966 974.07,954.214 1015.23,949.009 \n",
       "  1056.38,943.352 1097.53,937.242 1138.69,930.68 1179.84,923.665 1221,916.197 1262.15,908.277 1303.31,899.904 1344.46,891.079 1385.62,881.801 1426.77,872.071 \n",
       "  1467.93,861.888 1509.08,851.252 1550.24,840.164 1591.39,828.623 1632.55,816.63 1673.7,804.184 1714.86,791.285 1756.01,777.934 1797.17,764.131 1838.32,749.874 \n",
       "  1879.48,735.165 1920.63,720.004 1961.79,704.39 2002.94,688.323 2044.09,671.804 2085.25,654.832 2126.4,637.408 2167.56,619.531 2208.71,601.202 2249.87,582.42 \n",
       "  2291.02,563.185 \n",
       "  \"/>\n",
       "<polyline clip-path=\"url(#clip772)\" style=\"stroke:#c271d2; stroke-width:4; stroke-opacity:1; fill:none\" points=\"\n",
       "  233.284,1445.72 274.439,1376.43 315.594,1313.2 356.748,1255.77 397.903,1203.86 439.058,1157.2 480.213,1115.51 521.368,1078.54 562.522,1046 603.677,1017.62 \n",
       "  644.832,993.136 685.987,972.272 727.142,954.757 768.296,940.32 809.451,928.689 850.606,919.592 891.761,912.758 932.916,907.915 974.07,904.792 1015.23,903.118 \n",
       "  1056.38,902.62 1097.53,903.027 1138.69,904.068 1179.84,905.471 1221,906.965 1262.15,908.277 1303.31,909.137 1344.46,909.273 1385.62,908.413 1426.77,906.286 \n",
       "  1467.93,902.62 1509.08,897.144 1550.24,889.586 1591.39,879.674 1632.55,867.138 1673.7,851.705 1714.86,833.104 1756.01,811.063 1797.17,785.311 1838.32,755.577 \n",
       "  1879.48,721.588 1920.63,683.073 1961.79,639.762 2002.94,591.381 2044.09,537.66 2085.25,478.326 2126.4,413.11 2167.56,341.738 2208.71,263.939 2249.87,179.443 \n",
       "  2291.02,87.9763 \n",
       "  \"/>\n",
       "<path clip-path=\"url(#clip770)\" d=\"\n",
       "M1988.02 433.164 L2280.76 433.164 L2280.76 130.764 L1988.02 130.764  Z\n",
       "  \" fill=\"#ffffff\" fill-rule=\"evenodd\" fill-opacity=\"1\"/>\n",
       "<polyline clip-path=\"url(#clip770)\" style=\"stroke:#000000; stroke-width:4; stroke-opacity:1; fill:none\" points=\"\n",
       "  1988.02,433.164 2280.76,433.164 2280.76,130.764 1988.02,130.764 1988.02,433.164 \n",
       "  \"/>\n",
       "<circle clip-path=\"url(#clip770)\" cx=\"2096.02\" cy=\"191.244\" r=\"23\" fill=\"#009af9\" fill-rule=\"evenodd\" fill-opacity=\"1\" stroke=\"#000000\" stroke-opacity=\"1\" stroke-width=\"5.12\"/>\n",
       "<path clip-path=\"url(#clip770)\" d=\"M 0 0 M2193.87 210.931 Q2192.06 215.561 2190.35 216.973 Q2188.64 218.385 2185.77 218.385 L2182.36 218.385 L2182.36 214.82 L2184.86 214.82 Q2186.62 214.82 2187.59 213.987 Q2188.57 213.154 2189.75 210.052 L2190.51 208.107 L2180.02 182.598 L2184.54 182.598 L2192.64 202.876 L2200.74 182.598 L2205.26 182.598 L2193.87 210.931 Z\" fill=\"#000000\" fill-rule=\"evenodd\" fill-opacity=\"1\" /><path clip-path=\"url(#clip770)\" d=\"M 0 0 M2211.14 204.589 L2218.77 204.589 L2218.77 178.223 L2210.46 179.89 L2210.46 175.631 L2218.73 173.964 L2223.4 173.964 L2223.4 204.589 L2231.04 204.589 L2231.04 208.524 L2211.14 208.524 L2211.14 204.589 Z\" fill=\"#000000\" fill-rule=\"evenodd\" fill-opacity=\"1\" /><polyline clip-path=\"url(#clip770)\" style=\"stroke:#e26f46; stroke-width:4; stroke-opacity:1; fill:none\" points=\"\n",
       "  2012.02,251.724 2156.02,251.724 \n",
       "  \"/>\n",
       "<path clip-path=\"url(#clip770)\" d=\"M 0 0 M2193.87 271.411 Q2192.06 276.041 2190.35 277.453 Q2188.64 278.865 2185.77 278.865 L2182.36 278.865 L2182.36 275.3 L2184.86 275.3 Q2186.62 275.3 2187.59 274.467 Q2188.57 273.634 2189.75 270.532 L2190.51 268.587 L2180.02 243.078 L2184.54 243.078 L2192.64 263.356 L2200.74 243.078 L2205.26 243.078 L2193.87 271.411 Z\" fill=\"#000000\" fill-rule=\"evenodd\" fill-opacity=\"1\" /><path clip-path=\"url(#clip770)\" d=\"M 0 0 M2214.35 265.069 L2230.67 265.069 L2230.67 269.004 L2208.73 269.004 L2208.73 265.069 Q2211.39 262.314 2215.97 257.685 Q2220.58 253.032 2221.76 251.689 Q2224.01 249.166 2224.89 247.43 Q2225.79 245.671 2225.79 243.981 Q2225.79 241.226 2223.84 239.49 Q2221.92 237.754 2218.82 237.754 Q2216.62 237.754 2214.17 238.518 Q2211.74 239.282 2208.96 240.833 L2208.96 236.111 Q2211.78 234.976 2214.24 234.398 Q2216.69 233.819 2218.73 233.819 Q2224.1 233.819 2227.29 236.504 Q2230.49 239.189 2230.49 243.68 Q2230.49 245.81 2229.68 247.731 Q2228.89 249.629 2226.78 252.222 Q2226.21 252.893 2223.1 256.111 Q2220 259.305 2214.35 265.069 Z\" fill=\"#000000\" fill-rule=\"evenodd\" fill-opacity=\"1\" /><polyline clip-path=\"url(#clip770)\" style=\"stroke:#3da44d; stroke-width:4; stroke-opacity:1; fill:none\" points=\"\n",
       "  2012.02,312.204 2156.02,312.204 \n",
       "  \"/>\n",
       "<path clip-path=\"url(#clip770)\" d=\"M 0 0 M2193.87 331.891 Q2192.06 336.521 2190.35 337.933 Q2188.64 339.345 2185.77 339.345 L2182.36 339.345 L2182.36 335.78 L2184.86 335.78 Q2186.62 335.78 2187.59 334.947 Q2188.57 334.114 2189.75 331.012 L2190.51 329.067 L2180.02 303.558 L2184.54 303.558 L2192.64 323.836 L2200.74 303.558 L2205.26 303.558 L2193.87 331.891 Z\" fill=\"#000000\" fill-rule=\"evenodd\" fill-opacity=\"1\" /><path clip-path=\"url(#clip770)\" d=\"M 0 0 M2224.49 310.85 Q2227.85 311.568 2229.72 313.836 Q2231.62 316.105 2231.62 319.438 Q2231.62 324.554 2228.1 327.354 Q2224.58 330.155 2218.1 330.155 Q2215.93 330.155 2213.61 329.716 Q2211.32 329.299 2208.87 328.442 L2208.87 323.929 Q2210.81 325.063 2213.13 325.642 Q2215.44 326.22 2217.96 326.22 Q2222.36 326.22 2224.65 324.484 Q2226.97 322.748 2226.97 319.438 Q2226.97 316.382 2224.82 314.669 Q2222.69 312.933 2218.87 312.933 L2214.84 312.933 L2214.84 309.091 L2219.05 309.091 Q2222.5 309.091 2224.33 307.725 Q2226.16 306.336 2226.16 303.743 Q2226.16 301.081 2224.26 299.669 Q2222.39 298.234 2218.87 298.234 Q2216.95 298.234 2214.75 298.651 Q2212.55 299.068 2209.91 299.947 L2209.91 295.781 Q2212.57 295.04 2214.89 294.669 Q2217.22 294.299 2219.28 294.299 Q2224.61 294.299 2227.71 296.73 Q2230.81 299.137 2230.81 303.257 Q2230.81 306.128 2229.17 308.118 Q2227.52 310.086 2224.49 310.85 Z\" fill=\"#000000\" fill-rule=\"evenodd\" fill-opacity=\"1\" /><polyline clip-path=\"url(#clip770)\" style=\"stroke:#c271d2; stroke-width:4; stroke-opacity:1; fill:none\" points=\"\n",
       "  2012.02,372.684 2156.02,372.684 \n",
       "  \"/>\n",
       "<path clip-path=\"url(#clip770)\" d=\"M 0 0 M2193.87 392.371 Q2192.06 397.001 2190.35 398.413 Q2188.64 399.825 2185.77 399.825 L2182.36 399.825 L2182.36 396.26 L2184.86 396.26 Q2186.62 396.26 2187.59 395.427 Q2188.57 394.594 2189.75 391.492 L2190.51 389.547 L2180.02 364.038 L2184.54 364.038 L2192.64 384.316 L2200.74 364.038 L2205.26 364.038 L2193.87 392.371 Z\" fill=\"#000000\" fill-rule=\"evenodd\" fill-opacity=\"1\" /><path clip-path=\"url(#clip770)\" d=\"M 0 0 M2223.17 359.478 L2211.37 377.927 L2223.17 377.927 L2223.17 359.478 M2221.95 355.404 L2227.83 355.404 L2227.83 377.927 L2232.76 377.927 L2232.76 381.816 L2227.83 381.816 L2227.83 389.964 L2223.17 389.964 L2223.17 381.816 L2207.57 381.816 L2207.57 377.302 L2221.95 355.404 Z\" fill=\"#000000\" fill-rule=\"evenodd\" fill-opacity=\"1\" /></svg>\n"
      ]
     },
     "execution_count": 30,
     "metadata": {},
     "output_type": "execute_result"
    }
   ],
   "source": [
    "C4=x_hat4[1];D4=x_hat4[2];E4=x_hat4[3];F4=x_hat4[4]\n",
    "plot(t,b,seriestype=:scatter)\n",
    "plot!(x,x->C2+D2*x)\n",
    "plot!(x,x->C3+D3*x+E3*x^2)\n",
    "plot!(x,x->C4+D4*x+E4*x^2+F4*x^3)"
   ]
  }
 ],
 "metadata": {
  "kernelspec": {
   "display_name": "Julia 1.4.1",
   "language": "julia",
   "name": "julia-1.4"
  },
  "language_info": {
   "file_extension": ".jl",
   "mimetype": "application/julia",
   "name": "julia",
   "version": "1.4.1"
  }
 },
 "nbformat": 4,
 "nbformat_minor": 4
}
